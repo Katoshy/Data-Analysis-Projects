{
  "nbformat": 4,
  "nbformat_minor": 0,
  "metadata": {
    "colab": {
      "provenance": [],
      "mount_file_id": "1CrjL8AcTInSk-Xf1vEPaRzIJi0_5QZXh",
      "authorship_tag": "ABX9TyP1TPA8UtNjDMLIjdQOh/p0",
      "include_colab_link": true
    },
    "kernelspec": {
      "name": "python3",
      "display_name": "Python 3"
    },
    "language_info": {
      "name": "python"
    }
  },
  "cells": [
    {
      "cell_type": "markdown",
      "metadata": {
        "id": "view-in-github",
        "colab_type": "text"
      },
      "source": [
        "<a href=\"https://colab.research.google.com/github/Katoshy/Data-Analysis-Projects/blob/main/AD_1.ipynb\" target=\"_parent\"><img src=\"https://colab.research.google.com/assets/colab-badge.svg\" alt=\"Open In Colab\"/></a>"
      ]
    },
    {
      "cell_type": "code",
      "source": [
        "import numpy as np"
      ],
      "metadata": {
        "id": "nINA83C6Tb5V"
      },
      "execution_count": null,
      "outputs": []
    },
    {
      "cell_type": "markdown",
      "source": [
        "Створення матриці 3х3"
      ],
      "metadata": {
        "id": "XESeyj28Tcc2"
      }
    },
    {
      "cell_type": "code",
      "execution_count": null,
      "metadata": {
        "id": "80078f42",
        "colab": {
          "base_uri": "https://localhost:8080/"
        },
        "outputId": "594c2362-9a06-4342-ceca-2d8b0d4f8653"
      },
      "outputs": [
        {
          "output_type": "execute_result",
          "data": {
            "text/plain": [
              "array([[1, 2, 3],\n",
              "       [4, 5, 6],\n",
              "       [7, 8, 9]])"
            ]
          },
          "metadata": {},
          "execution_count": 1
        }
      ],
      "source": [
        "a=np.array([[1,2,3],[4,5,6],[7,8,9]])\n",
        "a"
      ]
    },
    {
      "cell_type": "markdown",
      "source": [
        "Створення масиву типу з плаваючою точкою"
      ],
      "metadata": {
        "id": "FNM04Y7-Tho9"
      }
    },
    {
      "cell_type": "code",
      "execution_count": null,
      "metadata": {
        "id": "7c1aa3c8",
        "colab": {
          "base_uri": "https://localhost:8080/"
        },
        "outputId": "781c8561-93a6-42f8-8d89-4ef1170cd1fe"
      },
      "outputs": [
        {
          "output_type": "execute_result",
          "data": {
            "text/plain": [
              "array([1., 2., 3., 4.])"
            ]
          },
          "metadata": {},
          "execution_count": 2
        }
      ],
      "source": [
        "a=np.array([1, 2, 3, 4], dtype='float')\n",
        "a"
      ]
    },
    {
      "cell_type": "markdown",
      "source": [
        "Створення масиву від 0 до 17"
      ],
      "metadata": {
        "id": "wntyMHRwTsiQ"
      }
    },
    {
      "cell_type": "code",
      "execution_count": null,
      "metadata": {
        "id": "a8ea1ab7",
        "colab": {
          "base_uri": "https://localhost:8080/"
        },
        "outputId": "3f5d51c2-f1f4-4861-e819-5956b9fb25f7"
      },
      "outputs": [
        {
          "output_type": "execute_result",
          "data": {
            "text/plain": [
              "array([ 0,  1,  2,  3,  4,  5,  6,  7,  8,  9, 10, 11, 12, 13, 14, 15, 16,\n",
              "       17])"
            ]
          },
          "metadata": {},
          "execution_count": 64
        }
      ],
      "source": [
        "np.arange(18)"
      ]
    },
    {
      "cell_type": "markdown",
      "source": [
        "Створення масиву з одиницю (9 шт.) цілочисельного типу"
      ],
      "metadata": {
        "id": "pQ9EXLfkT1r_"
      }
    },
    {
      "cell_type": "code",
      "execution_count": null,
      "metadata": {
        "id": "edafa478",
        "colab": {
          "base_uri": "https://localhost:8080/"
        },
        "outputId": "ef770089-57b7-4094-9e46-fa36c3c74156"
      },
      "outputs": [
        {
          "output_type": "execute_result",
          "data": {
            "text/plain": [
              "array([1, 1, 1, 1, 1, 1, 1, 1, 1])"
            ]
          },
          "metadata": {},
          "execution_count": 4
        }
      ],
      "source": [
        "np.ones(9,dtype=int)"
      ]
    },
    {
      "cell_type": "markdown",
      "source": [
        "Створення матриці з нулів 3х5 типу float"
      ],
      "metadata": {
        "id": "cnkVcJ6TT7sL"
      }
    },
    {
      "cell_type": "code",
      "execution_count": null,
      "metadata": {
        "id": "e84d3c6e",
        "colab": {
          "base_uri": "https://localhost:8080/"
        },
        "outputId": "e92499dd-668c-474c-ebd6-9c1324af4920"
      },
      "outputs": [
        {
          "output_type": "execute_result",
          "data": {
            "text/plain": [
              "array([[0., 0., 0., 0., 0.],\n",
              "       [0., 0., 0., 0., 0.],\n",
              "       [0., 0., 0., 0., 0.]])"
            ]
          },
          "metadata": {},
          "execution_count": 65
        }
      ],
      "source": [
        "np.zeros((3, 5), dtype=float)"
      ]
    },
    {
      "cell_type": "markdown",
      "source": [
        "Створення масиву від 0 до 1 з рівномірно розподіленими значеннями (5шт.)"
      ],
      "metadata": {
        "id": "vLvz9qvIUEyN"
      }
    },
    {
      "cell_type": "code",
      "execution_count": null,
      "metadata": {
        "id": "02965c89",
        "colab": {
          "base_uri": "https://localhost:8080/"
        },
        "outputId": "061e4449-e3fb-48ee-8d68-86907a742b6c"
      },
      "outputs": [
        {
          "output_type": "execute_result",
          "data": {
            "text/plain": [
              "array([0.  , 0.25, 0.5 , 0.75, 1.  ])"
            ]
          },
          "metadata": {},
          "execution_count": 10
        }
      ],
      "source": [
        "np.linspace(0,1,5)"
      ]
    },
    {
      "cell_type": "markdown",
      "source": [
        "Створення матриці 4х3 з значенням нормального розподілу (Гаусівського) при средньому значені μ = 1 стандартній девіації σ = 1"
      ],
      "metadata": {
        "id": "YA3rNj5AUSby"
      }
    },
    {
      "cell_type": "code",
      "execution_count": null,
      "metadata": {
        "id": "8b8e3db1",
        "colab": {
          "base_uri": "https://localhost:8080/"
        },
        "outputId": "aff535c4-b836-45e1-ed41-216c12d90d2c"
      },
      "outputs": [
        {
          "output_type": "execute_result",
          "data": {
            "text/plain": [
              "array([[ 2.02934593,  1.64917905,  2.16534482],\n",
              "       [ 1.64164735, -0.16217045,  3.00350365],\n",
              "       [ 0.83122233,  2.39609773,  1.50830864],\n",
              "       [-0.5181565 ,  2.3153728 ,  0.82382369]])"
            ]
          },
          "metadata": {},
          "execution_count": 11
        }
      ],
      "source": [
        "np.random.normal(1,1,(4,3))"
      ]
    },
    {
      "cell_type": "markdown",
      "source": [
        "Створення матриці 4х4 з цілочисельниз значень від 0 до 100 (виключно)"
      ],
      "metadata": {
        "id": "pR_GSWBaUw6T"
      }
    },
    {
      "cell_type": "code",
      "execution_count": null,
      "metadata": {
        "id": "7f8e6657",
        "colab": {
          "base_uri": "https://localhost:8080/"
        },
        "outputId": "ae7cb8db-b452-465b-ffcb-a67ee5a75002"
      },
      "outputs": [
        {
          "output_type": "execute_result",
          "data": {
            "text/plain": [
              "array([[81, 26, 91, 46],\n",
              "       [22, 55, 57, 77],\n",
              "       [55, 83, 85, 80],\n",
              "       [24, 90, 89,  1]])"
            ]
          },
          "metadata": {},
          "execution_count": 12
        }
      ],
      "source": [
        "np.random.randint(0, 100, (4, 4))"
      ]
    },
    {
      "cell_type": "markdown",
      "source": [
        "створення \"пустого\" масиву (забитого значенням що вже лежали у комірках пам'яті комп'ютера)"
      ],
      "metadata": {
        "id": "z1JqostrU7Lz"
      }
    },
    {
      "cell_type": "code",
      "execution_count": null,
      "metadata": {
        "id": "e423da30",
        "colab": {
          "base_uri": "https://localhost:8080/"
        },
        "outputId": "68c61cc3-ca0d-4ab7-d88c-4398fbc5419c"
      },
      "outputs": [
        {
          "output_type": "execute_result",
          "data": {
            "text/plain": [
              "array([4604930618986332160, 4604930618986332160,                   0])"
            ]
          },
          "metadata": {},
          "execution_count": 15
        }
      ],
      "source": [
        "np.empty(3,dtype='int')"
      ]
    },
    {
      "cell_type": "markdown",
      "source": [
        "створення масивів різними способами , та виведення їх вимірностей (к-сті вимірів)"
      ],
      "metadata": {
        "id": "-snd1fuaVTA5"
      }
    },
    {
      "cell_type": "code",
      "execution_count": null,
      "metadata": {
        "id": "e81350b6",
        "colab": {
          "base_uri": "https://localhost:8080/"
        },
        "outputId": "c3497c71-f829-41e7-897d-9e74c0aef34b"
      },
      "outputs": [
        {
          "output_type": "execute_result",
          "data": {
            "text/plain": [
              "(3, 1)"
            ]
          },
          "metadata": {},
          "execution_count": 66
        }
      ],
      "source": [
        "b=np.random.randint(0, 7, (4,4,3))\n",
        "a=np.array([1, 2, 3, 4, 5, 6, 7], dtype='float')\n",
        "b.ndim, a.ndim"
      ]
    },
    {
      "cell_type": "markdown",
      "source": [
        "Виведення їх розмірностей по кожному з вимірів"
      ],
      "metadata": {
        "id": "CY5cabt2Vdu2"
      }
    },
    {
      "cell_type": "code",
      "execution_count": null,
      "metadata": {
        "id": "f5b6522f",
        "colab": {
          "base_uri": "https://localhost:8080/"
        },
        "outputId": "9565a2cb-96f7-46f0-8ee4-ca50af5a2e06"
      },
      "outputs": [
        {
          "output_type": "execute_result",
          "data": {
            "text/plain": [
              "((4, 4, 3), (7,))"
            ]
          },
          "metadata": {},
          "execution_count": 67
        }
      ],
      "source": [
        "b.shape, a.shape"
      ]
    },
    {
      "cell_type": "markdown",
      "source": [
        "Кількість елементів кожного з масивів"
      ],
      "metadata": {
        "id": "2Xll8RRsVlpT"
      }
    },
    {
      "cell_type": "code",
      "execution_count": null,
      "metadata": {
        "id": "9a2b958d",
        "colab": {
          "base_uri": "https://localhost:8080/"
        },
        "outputId": "78896d79-6511-4477-83de-e624e5a75da3"
      },
      "outputs": [
        {
          "output_type": "execute_result",
          "data": {
            "text/plain": [
              "(48, 7)"
            ]
          },
          "metadata": {},
          "execution_count": 68
        }
      ],
      "source": [
        "b.size, a.size"
      ]
    },
    {
      "cell_type": "code",
      "execution_count": null,
      "metadata": {
        "id": "100b40de",
        "colab": {
          "base_uri": "https://localhost:8080/"
        },
        "outputId": "9fcc6c8a-2724-4e94-95eb-17badef018c1"
      },
      "outputs": [
        {
          "output_type": "execute_result",
          "data": {
            "text/plain": [
              "(dtype('int64'), dtype('float64'))"
            ]
          },
          "metadata": {},
          "execution_count": 69
        }
      ],
      "source": [
        "b.dtype, a.dtype"
      ]
    },
    {
      "cell_type": "code",
      "execution_count": null,
      "metadata": {
        "id": "3acb19ac",
        "colab": {
          "base_uri": "https://localhost:8080/"
        },
        "outputId": "d3a948e4-c976-4732-c044-6a017a2dc40d"
      },
      "outputs": [
        {
          "output_type": "execute_result",
          "data": {
            "text/plain": [
              "(384, 40)"
            ]
          },
          "metadata": {},
          "execution_count": 20
        }
      ],
      "source": [
        "b.nbytes, a.nbytes"
      ]
    },
    {
      "cell_type": "markdown",
      "source": [
        "Розмір кожного елемента в байтах"
      ],
      "metadata": {
        "id": "wKIVU4MGVwn6"
      }
    },
    {
      "cell_type": "code",
      "execution_count": null,
      "metadata": {
        "id": "944ea33f",
        "colab": {
          "base_uri": "https://localhost:8080/"
        },
        "outputId": "2b972ad8-d996-451b-f821-89e6bb8eabd9"
      },
      "outputs": [
        {
          "output_type": "execute_result",
          "data": {
            "text/plain": [
              "(8, 8)"
            ]
          },
          "metadata": {},
          "execution_count": 71
        }
      ],
      "source": [
        "b.itemsize, a.itemsize "
      ]
    },
    {
      "cell_type": "code",
      "execution_count": null,
      "metadata": {
        "id": "0650e65b",
        "colab": {
          "base_uri": "https://localhost:8080/"
        },
        "outputId": "556bc471-175e-4827-e947-ce24eaf1c055"
      },
      "outputs": [
        {
          "output_type": "execute_result",
          "data": {
            "text/plain": [
              "array([0, 1, 2, 3, 4, 5, 6])"
            ]
          },
          "metadata": {},
          "execution_count": 4
        }
      ],
      "source": [
        "a=np.arange(7)\n",
        "a"
      ]
    },
    {
      "cell_type": "code",
      "execution_count": null,
      "metadata": {
        "id": "5996062f",
        "colab": {
          "base_uri": "https://localhost:8080/"
        },
        "outputId": "2b26fbf4-30dd-4966-b298-cd6ada36b185"
      },
      "outputs": [
        {
          "output_type": "execute_result",
          "data": {
            "text/plain": [
              "(1, 4, 4)"
            ]
          },
          "metadata": {},
          "execution_count": 26
        }
      ],
      "source": [
        "a[1],a[4],a[-3]"
      ]
    },
    {
      "cell_type": "code",
      "execution_count": null,
      "metadata": {
        "id": "6e3f1b95",
        "colab": {
          "base_uri": "https://localhost:8080/"
        },
        "outputId": "24d7ca14-189e-4cbc-b514-3aceb87deab8"
      },
      "outputs": [
        {
          "output_type": "execute_result",
          "data": {
            "text/plain": [
              "array([[1, 2, 3],\n",
              "       [4, 5, 6],\n",
              "       [7, 8, 9]])"
            ]
          },
          "metadata": {},
          "execution_count": 27
        }
      ],
      "source": [
        "b=np.array([[1,2,3],[4,5,6],[7,8,9]])\n",
        "b"
      ]
    },
    {
      "cell_type": "code",
      "execution_count": null,
      "metadata": {
        "id": "75acc30d",
        "colab": {
          "base_uri": "https://localhost:8080/"
        },
        "outputId": "fec4136d-f6f9-4811-930b-951998807ca1"
      },
      "outputs": [
        {
          "output_type": "execute_result",
          "data": {
            "text/plain": [
              "(array([3, 3, 2]), array([3, 3, 2]), array([2, 2, 3]))"
            ]
          },
          "metadata": {},
          "execution_count": 70
        }
      ],
      "source": [
        "b[1,2],b[1,-2],b[1,1]"
      ]
    },
    {
      "cell_type": "code",
      "source": [
        "print(a[1::2])"
      ],
      "metadata": {
        "colab": {
          "base_uri": "https://localhost:8080/"
        },
        "id": "L7p5Id2zxOdM",
        "outputId": "8f53712c-9a8a-42ff-9522-38c7a0668694"
      },
      "execution_count": null,
      "outputs": [
        {
          "output_type": "stream",
          "name": "stdout",
          "text": [
            "[1 3 5]\n"
          ]
        }
      ]
    },
    {
      "cell_type": "code",
      "execution_count": null,
      "metadata": {
        "id": "f38ae775",
        "colab": {
          "base_uri": "https://localhost:8080/"
        },
        "outputId": "d162f874-aead-42a4-9a03-c84349dcd331"
      },
      "outputs": [
        {
          "output_type": "stream",
          "name": "stdout",
          "text": [
            "[0 1 2 3 4 5 6]\n"
          ]
        },
        {
          "output_type": "execute_result",
          "data": {
            "text/plain": [
              "(array([0, 1, 2, 3]), array([5, 3, 1]))"
            ]
          },
          "metadata": {},
          "execution_count": 35
        }
      ],
      "source": [
        "print(a)\n",
        "a[0:4:1], a[5::-2]"
      ]
    },
    {
      "cell_type": "code",
      "execution_count": null,
      "metadata": {
        "id": "d600cca9",
        "colab": {
          "base_uri": "https://localhost:8080/"
        },
        "outputId": "42f58c70-5f77-4f53-80dc-d26d02fc3d13"
      },
      "outputs": [
        {
          "output_type": "execute_result",
          "data": {
            "text/plain": [
              "array([[1, 2],\n",
              "       [4, 5]])"
            ]
          },
          "metadata": {},
          "execution_count": 38
        }
      ],
      "source": [
        "c=b[:2,:2].copy()\n",
        "c"
      ]
    },
    {
      "cell_type": "code",
      "execution_count": null,
      "metadata": {
        "id": "6e7b52ab",
        "colab": {
          "base_uri": "https://localhost:8080/"
        },
        "outputId": "41be11ac-dcc6-4069-8512-5d09aa8dbfa0"
      },
      "outputs": [
        {
          "output_type": "stream",
          "name": "stdout",
          "text": [
            "[[17  2]\n",
            " [ 4  5]]\n"
          ]
        }
      ],
      "source": [
        "c[0,0]=17\n",
        "print(c)"
      ]
    },
    {
      "cell_type": "code",
      "execution_count": null,
      "metadata": {
        "id": "e9fccb90",
        "colab": {
          "base_uri": "https://localhost:8080/"
        },
        "outputId": "c11d7f78-c134-4223-9486-01023598f997"
      },
      "outputs": [
        {
          "output_type": "execute_result",
          "data": {
            "text/plain": [
              "(array([4., 4., 4., 4.]),\n",
              " array([2., 2., 2., 2.]),\n",
              " array([16., 16., 16., 16.]),\n",
              " array([0.5, 0.5, 0.5, 0.5]),\n",
              " array([-1., -1., -1., -1.]))"
            ]
          },
          "metadata": {},
          "execution_count": 47
        }
      ],
      "source": [
        "a=np.ones(4)\n",
        "a+3, a*2, (3*a+1)**2,a/2,-a\n"
      ]
    },
    {
      "cell_type": "code",
      "execution_count": null,
      "metadata": {
        "id": "99b2dbab",
        "colab": {
          "base_uri": "https://localhost:8080/"
        },
        "outputId": "6659aa51-abfd-40c2-89d0-f76b0117e953"
      },
      "outputs": [
        {
          "output_type": "stream",
          "name": "stdout",
          "text": [
            "[1. 2. 3. 4. 5. 6. 7.]\n"
          ]
        },
        {
          "output_type": "execute_result",
          "data": {
            "text/plain": [
              "5040.0"
            ]
          },
          "metadata": {},
          "execution_count": 76
        }
      ],
      "source": [
        "print(a)\n",
        "np.multiply.reduce(a)"
      ]
    },
    {
      "cell_type": "code",
      "execution_count": null,
      "metadata": {
        "id": "4fb00e4b",
        "colab": {
          "base_uri": "https://localhost:8080/"
        },
        "outputId": "74342c2c-17b2-4f45-a6ad-e54dc6e8f011"
      },
      "outputs": [
        {
          "output_type": "execute_result",
          "data": {
            "text/plain": [
              "array([ 1.,  3.,  6., 10., 15., 21., 28.])"
            ]
          },
          "metadata": {},
          "execution_count": 77
        }
      ],
      "source": [
        "np.add.accumulate(a)"
      ]
    },
    {
      "cell_type": "code",
      "execution_count": null,
      "metadata": {
        "id": "f9782609",
        "colab": {
          "base_uri": "https://localhost:8080/"
        },
        "outputId": "e2de8cf6-f9fd-4af1-995b-e49e925fe351"
      },
      "outputs": [
        {
          "output_type": "execute_result",
          "data": {
            "text/plain": [
              "array([[ 1,  2,  3,  4,  5,  6,  7,  8,  9],\n",
              "       [ 2,  4,  6,  8, 10, 12, 14, 16, 18],\n",
              "       [ 3,  6,  9, 12, 15, 18, 21, 24, 27],\n",
              "       [ 4,  8, 12, 16, 20, 24, 28, 32, 36],\n",
              "       [ 5, 10, 15, 20, 25, 30, 35, 40, 45],\n",
              "       [ 6, 12, 18, 24, 30, 36, 42, 48, 54],\n",
              "       [ 7, 14, 21, 28, 35, 42, 49, 56, 63],\n",
              "       [ 8, 16, 24, 32, 40, 48, 56, 64, 72],\n",
              "       [ 9, 18, 27, 36, 45, 54, 63, 72, 81]])"
            ]
          },
          "metadata": {},
          "execution_count": 75
        }
      ],
      "source": [
        "а = np.arange(1, 10)\n",
        "np.multiply.outer(а, а)\n"
      ]
    },
    {
      "cell_type": "markdown",
      "source": [
        "Зчитування файлу з таблицею даних за допомогою Pandas , та виведення колонки \"ширина пелюстки\""
      ],
      "metadata": {
        "id": "JoE88I69YEoF"
      }
    },
    {
      "cell_type": "code",
      "execution_count": null,
      "metadata": {
        "id": "43d99073",
        "colab": {
          "base_uri": "https://localhost:8080/"
        },
        "outputId": "8543768f-9b2b-4bf2-a5fd-fdaeff57e6ef"
      },
      "outputs": [
        {
          "output_type": "execute_result",
          "data": {
            "text/plain": [
              "array([0.2, 0.2, 0.2, 0.2, 0.2, 0.4, 0.3, 0.2, 0.2, 0.1, 0.2, 0.2, 0.1,\n",
              "       0.1, 0.2, 0.4, 0.4, 0.3, 0.3, 0.3, 0.2, 0.4, 0.2, 0.5, 0.2, 0.2,\n",
              "       0.4, 0.2, 0.2, 0.2, 0.2, 0.4, 0.1, 0.2, 0.1, 0.2, 0.2, 0.1, 0.2,\n",
              "       0.2, 0.3, 0.3, 0.2, 0.6, 0.4, 0.3, 0.2, 0.2, 0.2, 0.2, 1.4, 1.5,\n",
              "       1.5, 1.3, 1.5, 1.3, 1.6, 1. , 1.3, 1.4, 1. , 1.5, 1. , 1.4, 1.3,\n",
              "       1.4, 1.5, 1. , 1.5, 1.1, 1.8, 1.3, 1.5, 1.2, 1.3, 1.4, 1.4, 1.7,\n",
              "       1.5, 1. , 1.1, 1. , 1.2, 1.6, 1.5, 1.6, 1.5, 1.3, 1.3, 1.3, 1.2,\n",
              "       1.4, 1.2, 1. , 1.3, 1.2, 1.3, 1.3, 1.1, 1.3, 2.5, 1.9, 2.1, 1.8,\n",
              "       2.2, 2.1, 1.7, 1.8, 1.8, 2.5, 2. , 1.9, 2.1, 2. , 2.4, 2.3, 1.8,\n",
              "       2.2, 2.3, 1.5, 2.3, 2. , 2. , 1.8, 2.1, 1.8, 1.8, 1.8, 2.1, 1.6,\n",
              "       1.9, 2. , 2.2, 1.5, 1.4, 2.3, 2.4, 1.8, 1.8, 2.1, 2.4, 2.3, 1.9,\n",
              "       2.3, 2.5, 2.3, 1.9, 2. , 2.3, 1.8])"
            ]
          },
          "metadata": {},
          "execution_count": 4
        }
      ],
      "source": [
        "import pandas as pd\n",
        "data = pd.read_csv('/content/drive/MyDrive/Colab Notebooks/iris.csv')\n",
        "petal = np.array(data['petal_width'])\n",
        "petal"
      ]
    },
    {
      "cell_type": "code",
      "execution_count": null,
      "metadata": {
        "id": "85a55076",
        "colab": {
          "base_uri": "https://localhost:8080/"
        },
        "outputId": "eefa2ab7-8ccb-420c-b819-3a65a95763c4"
      },
      "outputs": [
        {
          "output_type": "execute_result",
          "data": {
            "text/plain": [
              "2.5"
            ]
          },
          "metadata": {},
          "execution_count": 5
        }
      ],
      "source": [
        "petal.max()"
      ]
    },
    {
      "cell_type": "code",
      "execution_count": null,
      "metadata": {
        "id": "4d8428d2",
        "colab": {
          "base_uri": "https://localhost:8080/"
        },
        "outputId": "4cfda86c-8ebc-411e-8e3e-39297058da7f"
      },
      "outputs": [
        {
          "output_type": "execute_result",
          "data": {
            "text/plain": [
              "0.1"
            ]
          },
          "metadata": {},
          "execution_count": 6
        }
      ],
      "source": [
        "petal.min()"
      ]
    },
    {
      "cell_type": "code",
      "execution_count": null,
      "metadata": {
        "id": "876f1ac5",
        "colab": {
          "base_uri": "https://localhost:8080/"
        },
        "outputId": "99e9120d-7f35-488d-ff71-a880afcf8c86"
      },
      "outputs": [
        {
          "output_type": "execute_result",
          "data": {
            "text/plain": [
              "1.1986666666666668"
            ]
          },
          "metadata": {},
          "execution_count": 7
        }
      ],
      "source": [
        "petal.mean()"
      ]
    },
    {
      "cell_type": "code",
      "execution_count": null,
      "metadata": {
        "id": "98cba253",
        "colab": {
          "base_uri": "https://localhost:8080/"
        },
        "outputId": "e2cf591c-ff3f-44a9-e90d-3990a1e6304f"
      },
      "outputs": [
        {
          "output_type": "execute_result",
          "data": {
            "text/plain": [
              "1.3"
            ]
          },
          "metadata": {},
          "execution_count": 8
        }
      ],
      "source": [
        "np.median(petal)"
      ]
    },
    {
      "cell_type": "code",
      "source": [
        "np.var(petal)"
      ],
      "metadata": {
        "colab": {
          "base_uri": "https://localhost:8080/"
        },
        "id": "F_nmZErCK1we",
        "outputId": "953007db-c330-4696-c4ca-bd4227b00757"
      },
      "execution_count": null,
      "outputs": [
        {
          "output_type": "execute_result",
          "data": {
            "text/plain": [
              "0.5785315555555555"
            ]
          },
          "metadata": {},
          "execution_count": 9
        }
      ]
    },
    {
      "cell_type": "code",
      "source": [
        "np.std(petal)\n",
        "#Функція std() в середньоквадратичне (стандартне) відхилення"
      ],
      "metadata": {
        "colab": {
          "base_uri": "https://localhost:8080/"
        },
        "id": "toEgdNK9LNVP",
        "outputId": "f1d54cbf-7f5c-45f1-e25e-5ac5bf4d0790"
      },
      "execution_count": null,
      "outputs": [
        {
          "output_type": "execute_result",
          "data": {
            "text/plain": [
              "0.7606126185881716"
            ]
          },
          "metadata": {},
          "execution_count": 10
        }
      ]
    },
    {
      "cell_type": "code",
      "execution_count": null,
      "metadata": {
        "id": "8363864a",
        "colab": {
          "base_uri": "https://localhost:8080/"
        },
        "outputId": "47a40651-873c-44b4-c6a3-aeaa465607e5"
      },
      "outputs": [
        {
          "output_type": "execute_result",
          "data": {
            "text/plain": [
              "0.3"
            ]
          },
          "metadata": {},
          "execution_count": 11
        }
      ],
      "source": [
        "np.percentile(petal,25)"
      ]
    },
    {
      "cell_type": "code",
      "source": [
        "np.percentile(petal,75)"
      ],
      "metadata": {
        "colab": {
          "base_uri": "https://localhost:8080/"
        },
        "id": "emyyqtsVIRsH",
        "outputId": "a0291f5d-f130-42a0-b626-5b630f69bf03"
      },
      "execution_count": null,
      "outputs": [
        {
          "output_type": "execute_result",
          "data": {
            "text/plain": [
              "1.8"
            ]
          },
          "metadata": {},
          "execution_count": 12
        }
      ]
    }
  ]
}