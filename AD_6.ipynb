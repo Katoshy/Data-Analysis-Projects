{
  "nbformat": 4,
  "nbformat_minor": 0,
  "metadata": {
    "colab": {
      "provenance": [],
      "mount_file_id": "1C3QVA1N8x3AmpMvH6MJsFrnseXFvQyhO",
      "authorship_tag": "ABX9TyMTROksdtBMPOUM1N74yeJM",
      "include_colab_link": true
    },
    "kernelspec": {
      "name": "python3",
      "display_name": "Python 3"
    },
    "language_info": {
      "name": "python"
    }
  },
  "cells": [
    {
      "cell_type": "markdown",
      "metadata": {
        "id": "view-in-github",
        "colab_type": "text"
      },
      "source": [
        "<a href=\"https://colab.research.google.com/github/Katoshy/Data-Analysis-Projects/blob/main/AD_6.ipynb\" target=\"_parent\"><img src=\"https://colab.research.google.com/assets/colab-badge.svg\" alt=\"Open In Colab\"/></a>"
      ]
    },
    {
      "cell_type": "markdown",
      "source": [
        "**Підготовка**\n",
        "Підключення бібліотек та завантаження даних"
      ],
      "metadata": {
        "id": "K8aH6pwZ6RNf"
      }
    },
    {
      "cell_type": "code",
      "source": [
        "import pandas as pd\n",
        "import seaborn as sns\n",
        "import matplotlib.pyplot as plt\n",
        "import numpy as np\n",
        "from sklearn.model_selection import learning_curve, train_test_split\n",
        "from sklearn.metrics import make_scorer\n",
        "from sklearn.linear_model import LinearRegression\n",
        "from sklearn import metrics\n",
        "data = pd.read_csv(\"/content/drive/MyDrive/Colab Notebooks/Crime.csv\")"
      ],
      "metadata": {
        "id": "nINA83C6Tb5V"
      },
      "execution_count": null,
      "outputs": []
    },
    {
      "cell_type": "markdown",
      "source": [
        "Оберемо незалажені змінні для прогнозування рівня злочинності.\n",
        "Як варіант розглянемо дані за 10 років.\n",
        "Незалежними ознаками оберемо : Безробітну молодь , молодь , низька заробітня плата.\n",
        "\n",
        "Залежною змінною відповідно буде рівень злочинності за 10 років."
      ],
      "metadata": {
        "id": "ASz_hDZIOY-6"
      }
    },
    {
      "cell_type": "code",
      "source": [
        "X = data[['Education10', 'ExpenditureYear10', 'Wage10', 'BelowWage10']]#вибір незалежних ознак\n",
        "Y = data['CrimeRate10']#вибір залежної ознаки- рівень злочинності"
      ],
      "metadata": {
        "id": "9cMiK4wddgI9"
      },
      "execution_count": null,
      "outputs": []
    },
    {
      "cell_type": "markdown",
      "source": [
        "Розіб'ємо наші дані на тренувальні та тестувальні командою train_test_split\n",
        "\n",
        "\n",
        "Тестових даних буде 23% від усіх доступних даних test_size = 0.23"
      ],
      "metadata": {
        "id": "QsRLbD8bUosb"
      }
    },
    {
      "cell_type": "code",
      "source": [
        "X_train, X_test, Y_train, Y_test = train_test_split(X, Y, test_size=0.2,random_state=0)"
      ],
      "metadata": {
        "id": "SIQGpgmhdl88"
      },
      "execution_count": null,
      "outputs": []
    },
    {
      "cell_type": "markdown",
      "source": [
        "Створення моделі длінійної регресії та тренування її на тренувальному наборі даних."
      ],
      "metadata": {
        "id": "MIk06j54WPqs"
      }
    },
    {
      "cell_type": "code",
      "source": [
        "lm = LinearRegression().fit(X_train, Y_train)#тренуємо модель на тестових даних "
      ],
      "metadata": {
        "id": "JxHQYAuVdqEF"
      },
      "execution_count": null,
      "outputs": []
    },
    {
      "cell_type": "markdown",
      "source": [
        "Запишемо утворені коефіціенти у таблицю."
      ],
      "metadata": {
        "id": "OkKv-4HfWRQ8"
      }
    },
    {
      "cell_type": "code",
      "source": [
        "coef = pd.DataFrame(lm.coef_, X.columns, columns=[\"Coefficient\"])\n",
        "sns.scatterplot(data = data, x = \"Youth10\", y = \"BelowWage10\",hue=\"HighYouthUnemploy10\")\n",
        "coef"
      ],
      "metadata": {
        "colab": {
          "base_uri": "https://localhost:8080/",
          "height": 437
        },
        "id": "WA5sr8ncduFW",
        "outputId": "4645010a-76a9-4e49-d68a-0100bd448fca"
      },
      "execution_count": null,
      "outputs": [
        {
          "output_type": "execute_result",
          "data": {
            "text/plain": [
              "                   Coefficient\n",
              "Education10           5.340399\n",
              "ExpenditureYear10     0.855049\n",
              "Wage10                0.198568\n",
              "BelowWage10           0.707953"
            ],
            "text/html": [
              "\n",
              "  <div id=\"df-b181ea5e-08e1-4698-81a9-96f9823cb1f3\">\n",
              "    <div class=\"colab-df-container\">\n",
              "      <div>\n",
              "<style scoped>\n",
              "    .dataframe tbody tr th:only-of-type {\n",
              "        vertical-align: middle;\n",
              "    }\n",
              "\n",
              "    .dataframe tbody tr th {\n",
              "        vertical-align: top;\n",
              "    }\n",
              "\n",
              "    .dataframe thead th {\n",
              "        text-align: right;\n",
              "    }\n",
              "</style>\n",
              "<table border=\"1\" class=\"dataframe\">\n",
              "  <thead>\n",
              "    <tr style=\"text-align: right;\">\n",
              "      <th></th>\n",
              "      <th>Coefficient</th>\n",
              "    </tr>\n",
              "  </thead>\n",
              "  <tbody>\n",
              "    <tr>\n",
              "      <th>Education10</th>\n",
              "      <td>5.340399</td>\n",
              "    </tr>\n",
              "    <tr>\n",
              "      <th>ExpenditureYear10</th>\n",
              "      <td>0.855049</td>\n",
              "    </tr>\n",
              "    <tr>\n",
              "      <th>Wage10</th>\n",
              "      <td>0.198568</td>\n",
              "    </tr>\n",
              "    <tr>\n",
              "      <th>BelowWage10</th>\n",
              "      <td>0.707953</td>\n",
              "    </tr>\n",
              "  </tbody>\n",
              "</table>\n",
              "</div>\n",
              "      <button class=\"colab-df-convert\" onclick=\"convertToInteractive('df-b181ea5e-08e1-4698-81a9-96f9823cb1f3')\"\n",
              "              title=\"Convert this dataframe to an interactive table.\"\n",
              "              style=\"display:none;\">\n",
              "        \n",
              "  <svg xmlns=\"http://www.w3.org/2000/svg\" height=\"24px\"viewBox=\"0 0 24 24\"\n",
              "       width=\"24px\">\n",
              "    <path d=\"M0 0h24v24H0V0z\" fill=\"none\"/>\n",
              "    <path d=\"M18.56 5.44l.94 2.06.94-2.06 2.06-.94-2.06-.94-.94-2.06-.94 2.06-2.06.94zm-11 1L8.5 8.5l.94-2.06 2.06-.94-2.06-.94L8.5 2.5l-.94 2.06-2.06.94zm10 10l.94 2.06.94-2.06 2.06-.94-2.06-.94-.94-2.06-.94 2.06-2.06.94z\"/><path d=\"M17.41 7.96l-1.37-1.37c-.4-.4-.92-.59-1.43-.59-.52 0-1.04.2-1.43.59L10.3 9.45l-7.72 7.72c-.78.78-.78 2.05 0 2.83L4 21.41c.39.39.9.59 1.41.59.51 0 1.02-.2 1.41-.59l7.78-7.78 2.81-2.81c.8-.78.8-2.07 0-2.86zM5.41 20L4 18.59l7.72-7.72 1.47 1.35L5.41 20z\"/>\n",
              "  </svg>\n",
              "      </button>\n",
              "      \n",
              "  <style>\n",
              "    .colab-df-container {\n",
              "      display:flex;\n",
              "      flex-wrap:wrap;\n",
              "      gap: 12px;\n",
              "    }\n",
              "\n",
              "    .colab-df-convert {\n",
              "      background-color: #E8F0FE;\n",
              "      border: none;\n",
              "      border-radius: 50%;\n",
              "      cursor: pointer;\n",
              "      display: none;\n",
              "      fill: #1967D2;\n",
              "      height: 32px;\n",
              "      padding: 0 0 0 0;\n",
              "      width: 32px;\n",
              "    }\n",
              "\n",
              "    .colab-df-convert:hover {\n",
              "      background-color: #E2EBFA;\n",
              "      box-shadow: 0px 1px 2px rgba(60, 64, 67, 0.3), 0px 1px 3px 1px rgba(60, 64, 67, 0.15);\n",
              "      fill: #174EA6;\n",
              "    }\n",
              "\n",
              "    [theme=dark] .colab-df-convert {\n",
              "      background-color: #3B4455;\n",
              "      fill: #D2E3FC;\n",
              "    }\n",
              "\n",
              "    [theme=dark] .colab-df-convert:hover {\n",
              "      background-color: #434B5C;\n",
              "      box-shadow: 0px 1px 3px 1px rgba(0, 0, 0, 0.15);\n",
              "      filter: drop-shadow(0px 1px 2px rgba(0, 0, 0, 0.3));\n",
              "      fill: #FFFFFF;\n",
              "    }\n",
              "  </style>\n",
              "\n",
              "      <script>\n",
              "        const buttonEl =\n",
              "          document.querySelector('#df-b181ea5e-08e1-4698-81a9-96f9823cb1f3 button.colab-df-convert');\n",
              "        buttonEl.style.display =\n",
              "          google.colab.kernel.accessAllowed ? 'block' : 'none';\n",
              "\n",
              "        async function convertToInteractive(key) {\n",
              "          const element = document.querySelector('#df-b181ea5e-08e1-4698-81a9-96f9823cb1f3');\n",
              "          const dataTable =\n",
              "            await google.colab.kernel.invokeFunction('convertToInteractive',\n",
              "                                                     [key], {});\n",
              "          if (!dataTable) return;\n",
              "\n",
              "          const docLinkHtml = 'Like what you see? Visit the ' +\n",
              "            '<a target=\"_blank\" href=https://colab.research.google.com/notebooks/data_table.ipynb>data table notebook</a>'\n",
              "            + ' to learn more about interactive tables.';\n",
              "          element.innerHTML = '';\n",
              "          dataTable['output_type'] = 'display_data';\n",
              "          await google.colab.output.renderOutput(dataTable, element);\n",
              "          const docLink = document.createElement('div');\n",
              "          docLink.innerHTML = docLinkHtml;\n",
              "          element.appendChild(docLink);\n",
              "        }\n",
              "      </script>\n",
              "    </div>\n",
              "  </div>\n",
              "  "
            ]
          },
          "metadata": {},
          "execution_count": 32
        },
        {
          "output_type": "display_data",
          "data": {
            "text/plain": [
              "<Figure size 432x288 with 1 Axes>"
            ],
            "image/png": "[encoded data removed]"
          },
          "metadata": {
            "needs_background": "light"
          }
        }
      ]
    },
    {
      "cell_type": "markdown",
      "source": [
        "Спрогнозуэмо на основі натренованої моделі (отриманих коефіціентів) результати для тестового набору."
      ],
      "metadata": {
        "id": "r9HwHhhelApI"
      }
    },
    {
      "cell_type": "code",
      "source": [
        "Y_pred = lm.predict(X_test)  \n",
        "df = pd.DataFrame({'Tested':Y_test, 'Predicted':Y_pred})\n",
        "df"
      ],
      "metadata": {
        "id": "Feh8uukBdyDd",
        "colab": {
          "base_uri": "https://localhost:8080/",
          "height": 363
        },
        "outputId": "fde3edfb-906b-45d7-c459-3f709bee9180"
      },
      "execution_count": null,
      "outputs": [
        {
          "output_type": "execute_result",
          "data": {
            "text/plain": [
              "    Tested   Predicted\n",
              "28   110.5  113.618481\n",
              "33   127.8  121.216861\n",
              "30   116.3  116.353398\n",
              "4     46.7  106.688316\n",
              "18    94.1   95.178201\n",
              "11    75.4   83.708736\n",
              "42   157.3  132.741437\n",
              "31   119.7  107.847777\n",
              "22   101.4   86.965969\n",
              "10    71.4   70.356868"
            ],
            "text/html": [
              "\n",
              "  <div id=\"df-59d14d8c-92a5-49d9-a5e4-5448aafb85c2\">\n",
              "    <div class=\"colab-df-container\">\n",
              "      <div>\n",
              "<style scoped>\n",
              "    .dataframe tbody tr th:only-of-type {\n",
              "        vertical-align: middle;\n",
              "    }\n",
              "\n",
              "    .dataframe tbody tr th {\n",
              "        vertical-align: top;\n",
              "    }\n",
              "\n",
              "    .dataframe thead th {\n",
              "        text-align: right;\n",
              "    }\n",
              "</style>\n",
              "<table border=\"1\" class=\"dataframe\">\n",
              "  <thead>\n",
              "    <tr style=\"text-align: right;\">\n",
              "      <th></th>\n",
              "      <th>Tested</th>\n",
              "      <th>Predicted</th>\n",
              "    </tr>\n",
              "  </thead>\n",
              "  <tbody>\n",
              "    <tr>\n",
              "      <th>28</th>\n",
              "      <td>110.5</td>\n",
              "      <td>113.618481</td>\n",
              "    </tr>\n",
              "    <tr>\n",
              "      <th>33</th>\n",
              "      <td>127.8</td>\n",
              "      <td>121.216861</td>\n",
              "    </tr>\n",
              "    <tr>\n",
              "      <th>30</th>\n",
              "      <td>116.3</td>\n",
              "      <td>116.353398</td>\n",
              "    </tr>\n",
              "    <tr>\n",
              "      <th>4</th>\n",
              "      <td>46.7</td>\n",
              "      <td>106.688316</td>\n",
              "    </tr>\n",
              "    <tr>\n",
              "      <th>18</th>\n",
              "      <td>94.1</td>\n",
              "      <td>95.178201</td>\n",
              "    </tr>\n",
              "    <tr>\n",
              "      <th>11</th>\n",
              "      <td>75.4</td>\n",
              "      <td>83.708736</td>\n",
              "    </tr>\n",
              "    <tr>\n",
              "      <th>42</th>\n",
              "      <td>157.3</td>\n",
              "      <td>132.741437</td>\n",
              "    </tr>\n",
              "    <tr>\n",
              "      <th>31</th>\n",
              "      <td>119.7</td>\n",
              "      <td>107.847777</td>\n",
              "    </tr>\n",
              "    <tr>\n",
              "      <th>22</th>\n",
              "      <td>101.4</td>\n",
              "      <td>86.965969</td>\n",
              "    </tr>\n",
              "    <tr>\n",
              "      <th>10</th>\n",
              "      <td>71.4</td>\n",
              "      <td>70.356868</td>\n",
              "    </tr>\n",
              "  </tbody>\n",
              "</table>\n",
              "</div>\n",
              "      <button class=\"colab-df-convert\" onclick=\"convertToInteractive('df-59d14d8c-92a5-49d9-a5e4-5448aafb85c2')\"\n",
              "              title=\"Convert this dataframe to an interactive table.\"\n",
              "              style=\"display:none;\">\n",
              "        \n",
              "  <svg xmlns=\"http://www.w3.org/2000/svg\" height=\"24px\"viewBox=\"0 0 24 24\"\n",
              "       width=\"24px\">\n",
              "    <path d=\"M0 0h24v24H0V0z\" fill=\"none\"/>\n",
              "    <path d=\"M18.56 5.44l.94 2.06.94-2.06 2.06-.94-2.06-.94-.94-2.06-.94 2.06-2.06.94zm-11 1L8.5 8.5l.94-2.06 2.06-.94-2.06-.94L8.5 2.5l-.94 2.06-2.06.94zm10 10l.94 2.06.94-2.06 2.06-.94-2.06-.94-.94-2.06-.94 2.06-2.06.94z\"/><path d=\"M17.41 7.96l-1.37-1.37c-.4-.4-.92-.59-1.43-.59-.52 0-1.04.2-1.43.59L10.3 9.45l-7.72 7.72c-.78.78-.78 2.05 0 2.83L4 21.41c.39.39.9.59 1.41.59.51 0 1.02-.2 1.41-.59l7.78-7.78 2.81-2.81c.8-.78.8-2.07 0-2.86zM5.41 20L4 18.59l7.72-7.72 1.47 1.35L5.41 20z\"/>\n",
              "  </svg>\n",
              "      </button>\n",
              "      \n",
              "  <style>\n",
              "    .colab-df-container {\n",
              "      display:flex;\n",
              "      flex-wrap:wrap;\n",
              "      gap: 12px;\n",
              "    }\n",
              "\n",
              "    .colab-df-convert {\n",
              "      background-color: #E8F0FE;\n",
              "      border: none;\n",
              "      border-radius: 50%;\n",
              "      cursor: pointer;\n",
              "      display: none;\n",
              "      fill: #1967D2;\n",
              "      height: 32px;\n",
              "      padding: 0 0 0 0;\n",
              "      width: 32px;\n",
              "    }\n",
              "\n",
              "    .colab-df-convert:hover {\n",
              "      background-color: #E2EBFA;\n",
              "      box-shadow: 0px 1px 2px rgba(60, 64, 67, 0.3), 0px 1px 3px 1px rgba(60, 64, 67, 0.15);\n",
              "      fill: #174EA6;\n",
              "    }\n",
              "\n",
              "    [theme=dark] .colab-df-convert {\n",
              "      background-color: #3B4455;\n",
              "      fill: #D2E3FC;\n",
              "    }\n",
              "\n",
              "    [theme=dark] .colab-df-convert:hover {\n",
              "      background-color: #434B5C;\n",
              "      box-shadow: 0px 1px 3px 1px rgba(0, 0, 0, 0.15);\n",
              "      filter: drop-shadow(0px 1px 2px rgba(0, 0, 0, 0.3));\n",
              "      fill: #FFFFFF;\n",
              "    }\n",
              "  </style>\n",
              "\n",
              "      <script>\n",
              "        const buttonEl =\n",
              "          document.querySelector('#df-59d14d8c-92a5-49d9-a5e4-5448aafb85c2 button.colab-df-convert');\n",
              "        buttonEl.style.display =\n",
              "          google.colab.kernel.accessAllowed ? 'block' : 'none';\n",
              "\n",
              "        async function convertToInteractive(key) {\n",
              "          const element = document.querySelector('#df-59d14d8c-92a5-49d9-a5e4-5448aafb85c2');\n",
              "          const dataTable =\n",
              "            await google.colab.kernel.invokeFunction('convertToInteractive',\n",
              "                                                     [key], {});\n",
              "          if (!dataTable) return;\n",
              "\n",
              "          const docLinkHtml = 'Like what you see? Visit the ' +\n",
              "            '<a target=\"_blank\" href=https://colab.research.google.com/notebooks/data_table.ipynb>data table notebook</a>'\n",
              "            + ' to learn more about interactive tables.';\n",
              "          element.innerHTML = '';\n",
              "          dataTable['output_type'] = 'display_data';\n",
              "          await google.colab.output.renderOutput(dataTable, element);\n",
              "          const docLink = document.createElement('div');\n",
              "          docLink.innerHTML = docLinkHtml;\n",
              "          element.appendChild(docLink);\n",
              "        }\n",
              "      </script>\n",
              "    </div>\n",
              "  </div>\n",
              "  "
            ]
          },
          "metadata": {},
          "execution_count": 33
        }
      ]
    },
    {
      "cell_type": "code",
      "source": [
        "np.corrcoef(Y_test, Y_pred)[0][1]"
      ],
      "metadata": {
        "colab": {
          "base_uri": "https://localhost:8080/"
        },
        "id": "6cGjr7cLA-IL",
        "outputId": "b7510a7e-a5e2-44b7-9cc9-4e2b7c4b41f5"
      },
      "execution_count": null,
      "outputs": [
        {
          "output_type": "execute_result",
          "data": {
            "text/plain": [
              "0.7055559801873216"
            ]
          },
          "metadata": {},
          "execution_count": 34
        }
      ]
    },
    {
      "cell_type": "code",
      "source": [
        "residuals = Y_test-Y_pred\n",
        "sns.kdeplot(residuals)\n",
        "plt.show()\n",
        "sns.scatterplot(np.arange(residuals.shape[0]), residuals)"
      ],
      "metadata": {
        "colab": {
          "base_uri": "https://localhost:8080/",
          "height": 599
        },
        "id": "rshETdW9d5aO",
        "outputId": "8a48700f-0a7d-4dde-c010-228e5a815e57"
      },
      "execution_count": null,
      "outputs": [
        {
          "output_type": "display_data",
          "data": {
            "text/plain": [
              "<Figure size 432x288 with 1 Axes>"
            ],
            "image/png": "[encoded data removed]"
          },
          "metadata": {
            "needs_background": "light"
          }
        },
        {
          "output_type": "stream",
          "name": "stderr",
          "text": [
            "/usr/local/lib/python3.7/dist-packages/seaborn/_decorators.py:43: FutureWarning: Pass the following variables as keyword args: x, y. From version 0.12, the only valid positional argument will be `data`, and passing other arguments without an explicit keyword will result in an error or misinterpretation.\n",
            "  FutureWarning\n"
          ]
        },
        {
          "output_type": "execute_result",
          "data": {
            "text/plain": [
              "<matplotlib.axes._subplots.AxesSubplot at 0x7eff19db7e90>"
            ]
          },
          "metadata": {},
          "execution_count": 40
        },
        {
          "output_type": "display_data",
          "data": {
            "text/plain": [
              "<Figure size 432x288 with 1 Axes>"
            ],
            "image/png": "[encoded data removed]"
          },
          "metadata": {
            "needs_background": "light"
          }
        }
      ]
    },
    {
      "cell_type": "markdown",
      "source": [
        "З даних діграм бачимо , що залишки:\n",
        "\n",
        "1) За діаграмою **щільності** значення скупчуються біля нуля , хоча існує невеликий \"викид\" на проміжку ***(-75;-50)***\n",
        "\n",
        "2) За діаграмою **розсіювання** підтверджуємо п.1 : залишки зосереджені навколо нуля , є викид при значені приблизно біля ***-60***"
      ],
      "metadata": {
        "id": "0gnsai8vEBmS"
      }
    },
    {
      "cell_type": "code",
      "source": [
        "from sklearn.metrics import r2_score\n",
        "from sklearn.metrics import explained_variance_score\n",
        "print(\"R^2 -> \",lm.score(X_test, Y_test))\n",
        "print(\"R^2 -> \",r2_score(Y_test, Y_pred))\n",
        "print(\"Explained variance ->\",explained_variance_score(Y_test, Y_pred))\n",
        "\n",
        "print(\"Середньоквадратична похибка:\", metrics.mean_squared_error(Y_test, Y_pred))\n",
        "print(\"Корінь з середньоквадратичної похибка:\", np.sqrt(metrics.mean_squared_error(Y_test, Y_pred)))\n",
        "print(\"Середнє значення злочинності:\", data.CrimeRate10.mean())\n",
        "\n",
        "print(\"Середня абсолютна похибка:\", metrics.mean_absolute_error(Y_test, Y_pred))"
      ],
      "metadata": {
        "colab": {
          "base_uri": "https://localhost:8080/"
        },
        "id": "FQW-C6hOFmzi",
        "outputId": "18710b1d-27b6-421d-c22c-4a6debf4c7a4"
      },
      "execution_count": null,
      "outputs": [
        {
          "output_type": "stream",
          "name": "stdout",
          "text": [
            "R^2 ->  0.4850595685552985\n",
            "R^2 ->  0.4850595685552985\n",
            "Explained variance -> 0.48724203167507796\n",
            "Середньоквадратична похибка: 467.4888766632448\n",
            "Корінь з середньоквадратичної похибка: 21.62149108325429\n",
            "Середнє значення злочинності: 102.07021276595745\n",
            "Середня абсолютна похибка: 13.10182213701189\n"
          ]
        }
      ]
    },
    {
      "cell_type": "code",
      "source": [
        "t = np.arange(len(X_test))\n",
        "plt.plot(t, Y_test, 'o-r', linewidth=2, label='Original')\n",
        "plt.plot(t, Y_pred, 'o-g', linewidth=2, label='Predictions')\n",
        "plt.legend()\n",
        "plt.show()\n"
      ],
      "metadata": {
        "colab": {
          "base_uri": "https://localhost:8080/",
          "height": 265
        },
        "id": "RVG3kOg3eGpF",
        "outputId": "42cde7f7-8e72-4cdc-a4ce-88d1687901d2"
      },
      "execution_count": null,
      "outputs": [
        {
          "output_type": "display_data",
          "data": {
            "text/plain": [
              "<Figure size 432x288 with 1 Axes>"
            ],
            "image/png": "[encoded data removed]"
          },
          "metadata": {
            "needs_background": "light"
          }
        }
      ]
    },
    {
      "cell_type": "markdown",
      "source": [
        "**Кластеризація**"
      ],
      "metadata": {
        "id": "edb0Zxw9IEjS"
      }
    },
    {
      "cell_type": "code",
      "source": [
        "from sklearn.cluster import KMeans\n",
        "from sklearn.pipeline import Pipeline\n",
        "from sklearn.preprocessing import StandardScaler\n",
        "\n",
        "kmeans_data = data[['ExpenditureYear10', 'BelowWage10']]\n",
        "\n",
        "kmeans_pipeline = Pipeline([('scale', StandardScaler()),('kmeans', KMeans(8,\n",
        "random_state=0))])\n",
        "kmeans_pipeline.fit(kmeans_data)"
      ],
      "metadata": {
        "colab": {
          "base_uri": "https://localhost:8080/"
        },
        "id": "a8dalGLfoVX6",
        "outputId": "fe11acf7-fa70-4249-bd85-2f5585f05ea5"
      },
      "execution_count": null,
      "outputs": [
        {
          "output_type": "execute_result",
          "data": {
            "text/plain": [
              "Pipeline(steps=[('scale', StandardScaler()),\n",
              "                ('kmeans', KMeans(random_state=0))])"
            ]
          },
          "metadata": {},
          "execution_count": 70
        }
      ]
    },
    {
      "cell_type": "code",
      "source": [
        "sns.scatterplot(x=kmeans_data.ExpenditureYear10,y=kmeans_data.BelowWage10,hue=kmeans_pipeline.predict(kmeans_data),palette='tab10')"
      ],
      "metadata": {
        "colab": {
          "base_uri": "https://localhost:8080/",
          "height": 296
        },
        "id": "7jHyllTwPYHp",
        "outputId": "cad5ed6f-b717-4c76-feb5-d6fad0baea0e"
      },
      "execution_count": null,
      "outputs": [
        {
          "output_type": "execute_result",
          "data": {
            "text/plain": [
              "<matplotlib.axes._subplots.AxesSubplot at 0x7eff161c0710>"
            ]
          },
          "metadata": {},
          "execution_count": 79
        },
        {
          "output_type": "display_data",
          "data": {
            "text/plain": [
              "<Figure size 432x288 with 1 Axes>"
            ],
            "image/png": "[encoded data removed]"
          },
          "metadata": {
            "needs_background": "light"
          }
        }
      ]
    },
    {
      "cell_type": "markdown",
      "source": [
        "метрика повертає значення в діапазоні [-1, 1], де -1 є найгіршим\n",
        "(кластери призначені неправильно), а 1 найкращим; значення\n",
        "поблизу 0 вказують, що кластери перекриваються. Чим вище це\n",
        "число, тим краще визначені (більш відокремлені) кластери."
      ],
      "metadata": {
        "id": "kbemSBp0wzkq"
      }
    },
    {
      "cell_type": "code",
      "source": [
        "from sklearn.metrics import silhouette_score\n",
        "silhouette_score(kmeans_data, kmeans_pipeline.predict(kmeans_data))"
      ],
      "metadata": {
        "colab": {
          "base_uri": "https://localhost:8080/"
        },
        "id": "mSeAUX8AoquB",
        "outputId": "068d27fa-7caf-4378-ae12-4061489392af"
      },
      "execution_count": null,
      "outputs": [
        {
          "output_type": "execute_result",
          "data": {
            "text/plain": [
              "0.3674182936319451"
            ]
          },
          "metadata": {},
          "execution_count": 73
        }
      ]
    },
    {
      "cell_type": "markdown",
      "source": [
        "Проведемо оцінку відношення відстаней всередині кластера\n",
        "(відстаней між точками в кластері) до відстаней між кластерами\n",
        "(відстаней між точками в різних кластерах), яке називається\n",
        "оцінкою Девіса-Болдіна."
      ],
      "metadata": {
        "id": "HT_boY6wwplh"
      }
    },
    {
      "cell_type": "code",
      "source": [
        "from sklearn.metrics import davies_bouldin_score\n",
        "davies_bouldin_score(kmeans_data, kmeans_pipeline.predict(kmeans_data))"
      ],
      "metadata": {
        "colab": {
          "base_uri": "https://localhost:8080/"
        },
        "id": "JLuLgZOMorLZ",
        "outputId": "5bed00ad-3333-4580-95df-6a6696ddd971"
      },
      "execution_count": null,
      "outputs": [
        {
          "output_type": "execute_result",
          "data": {
            "text/plain": [
              "0.7888932280333163"
            ]
          },
          "metadata": {},
          "execution_count": 74
        }
      ]
    },
    {
      "cell_type": "markdown",
      "source": [
        "Ще одним показником є оцінка Калінського та Харабаса, або\n",
        "критерій співвідношення дисперсії, який є відношенням дисперсії\n",
        "5\n",
        "всередині кластера до дисперсії між кластерами. Вищі значення\n",
        "вказують на краще визначені (більш відокремлені) кластери"
      ],
      "metadata": {
        "id": "6Rv1k3O03VA0"
      }
    },
    {
      "cell_type": "code",
      "source": [
        "from sklearn.metrics import calinski_harabasz_score\n",
        "calinski_harabasz_score(kmeans_data, kmeans_pipeline.predict(kmeans_data))"
      ],
      "metadata": {
        "colab": {
          "base_uri": "https://localhost:8080/"
        },
        "id": "D3YYYK9X2-kM",
        "outputId": "45b65bcb-2c48-49e9-b980-3ca3c4a506ad"
      },
      "execution_count": null,
      "outputs": [
        {
          "output_type": "execute_result",
          "data": {
            "text/plain": [
              "59.5614816717025"
            ]
          },
          "metadata": {},
          "execution_count": 75
        }
      ]
    }
  ]
}