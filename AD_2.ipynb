{
  "nbformat": 4,
  "nbformat_minor": 0,
  "metadata": {
    "colab": {
      "provenance": [],
      "mount_file_id": "18TIQFsd01EzRqY7ZXTlDxoq5tCLpfBV1",
      "authorship_tag": "ABX9TyO4CcuaTvIlylCSHqFBaJjP",
      "include_colab_link": true
    },
    "kernelspec": {
      "name": "python3",
      "display_name": "Python 3"
    },
    "language_info": {
      "name": "python"
    }
  },
  "cells": [
    {
      "cell_type": "markdown",
      "metadata": {
        "id": "view-in-github",
        "colab_type": "text"
      },
      "source": [
        "<a href=\"https://colab.research.google.com/github/Katoshy/Data-Analysis-Projects/blob/main/AD_2.ipynb\" target=\"_parent\"><img src=\"https://colab.research.google.com/assets/colab-badge.svg\" alt=\"Open In Colab\"/></a>"
      ]
    },
    {
      "cell_type": "markdown",
      "source": [
        "**Підготовка**\n",
        "Підключення бібліотек та завантаження даних"
      ],
      "metadata": {
        "id": "K8aH6pwZ6RNf"
      }
    },
    {
      "cell_type": "code",
      "source": [
        "import numpy as np\n",
        "import pandas as pd\n",
        "import scipy\n",
        "from scipy import stats\n",
        "data = pd.read_csv('/content/drive/MyDrive/Colab Notebooks/Birthweight.csv')"
      ],
      "metadata": {
        "id": "nINA83C6Tb5V"
      },
      "execution_count": null,
      "outputs": []
    },
    {
      "cell_type": "code",
      "source": [
        "a=np.array([[7,6,3],[4,2,1],[9,5,8]])\n",
        "a[:,1:]"
      ],
      "metadata": {
        "colab": {
          "base_uri": "https://localhost:8080/"
        },
        "id": "Lf5rKvornCHA",
        "outputId": "9d79c400-e470-45c7-8419-2ef349bc1cd7"
      },
      "execution_count": null,
      "outputs": [
        {
          "output_type": "execute_result",
          "data": {
            "text/plain": [
              "array([[6, 3],\n",
              "       [2, 1],\n",
              "       [5, 8]])"
            ]
          },
          "metadata": {},
          "execution_count": 15
        }
      ]
    },
    {
      "cell_type": "markdown",
      "source": [
        "**Завдання №1**\n",
        "Знаходимо середнє значення колонки \"вік матері\""
      ],
      "metadata": {
        "id": "wRqTlT4J6SDi"
      }
    },
    {
      "cell_type": "code",
      "source": [
        "\n",
        "mother_age = np.array(data['mage'])\n",
        "mother_age.mean()"
      ],
      "metadata": {
        "colab": {
          "base_uri": "https://localhost:8080/"
        },
        "id": "wBWcBKR_6GBz",
        "outputId": "2aaf3af0-b1bf-43f5-d7c7-3337a60aeb1a"
      },
      "execution_count": null,
      "outputs": [
        {
          "output_type": "execute_result",
          "data": {
            "text/plain": [
              "25.547619047619047"
            ]
          },
          "metadata": {},
          "execution_count": 2
        }
      ]
    },
    {
      "cell_type": "markdown",
      "source": [
        "**Завдання №2**\n",
        "Перевірка чи нормально розподілена вага дітей"
      ],
      "metadata": {
        "id": "Oh2eBtAS6u1m"
      }
    },
    {
      "cell_type": "code",
      "source": [
        "weight = np.array(data['Birthweight'])\n",
        "stats.normaltest(weight)"
      ],
      "metadata": {
        "colab": {
          "base_uri": "https://localhost:8080/"
        },
        "id": "9scfCYm86WsD",
        "outputId": "271553b9-0567-4471-cb9b-2cffb318e2c9"
      },
      "execution_count": null,
      "outputs": [
        {
          "output_type": "execute_result",
          "data": {
            "text/plain": [
              "NormaltestResult(statistic=0.1049044833363354, pvalue=0.9488996378374451)"
            ]
          },
          "metadata": {},
          "execution_count": 3
        }
      ]
    },
    {
      "cell_type": "markdown",
      "source": [
        "Маємо такий результата : pvalue = 0.94 . Р-критерій близький до 1 , а це означає що наша гіпотеза про нормальний розподіл даних ваги кожної дитини прийнята (вага дуже близька до нормального розподілу)"
      ],
      "metadata": {
        "id": "4RfBeXkl7u-t"
      }
    },
    {
      "cell_type": "code",
      "source": [
        "scipy.stats.pearsonr(mother_age,weight)"
      ],
      "metadata": {
        "colab": {
          "base_uri": "https://localhost:8080/"
        },
        "id": "wZhwPkaMla6g",
        "outputId": "44fbd559-f8b4-4b9d-d958-522898b8f525"
      },
      "execution_count": null,
      "outputs": [
        {
          "output_type": "execute_result",
          "data": {
            "text/plain": [
              "(0.0001731022769084628, 0.9991319221053567)"
            ]
          },
          "metadata": {},
          "execution_count": 7
        }
      ]
    },
    {
      "cell_type": "markdown",
      "source": [
        "**Завдання №3**\n",
        "Перевірити гіпотезу про існування залежності між курінням матері та малою вагою дитини.\n",
        "\n",
        "Приймемо за H0 (нульову гіпотезу) те що вага дитини \"курця\" не відрізняється дитини \"не курця\". (для цього іделаьно підходить ttest_ind - середні двух множин на рівність. Відповідно, нульова гіпотеза - рівність середніх наших генеральних сукупностей. )"
      ],
      "metadata": {
        "id": "D2VUxxvv8sOE"
      }
    },
    {
      "cell_type": "code",
      "source": [
        "noSmokeChildren = []\n",
        "SmokeChildren = []\n",
        "for i in range(data.shape[0]):\n",
        "  if data['smoker'][i] :\n",
        "    SmokeChildren.append(data['Birthweight'][i])\n",
        "  else:\n",
        "    noSmokeChildren.append(data['Birthweight'][i])\n",
        "\n",
        "stats.ttest_ind(SmokeChildren,noSmokeChildren, alternative='less') # як альтернативу оберемо гіпотезу less - у курців діти мають меншу вагу ніж в не курців"
      ],
      "metadata": {
        "colab": {
          "base_uri": "https://localhost:8080/",
          "height": 217
        },
        "id": "gxqO_1Ei7JAs",
        "outputId": "4f18eb3c-33ea-4d2b-f88d-0a90f1a27984"
      },
      "execution_count": null,
      "outputs": [
        {
          "output_type": "error",
          "ename": "TypeError",
          "evalue": "ignored",
          "traceback": [
            "\u001b[0;31m---------------------------------------------------------------------------\u001b[0m",
            "\u001b[0;31mTypeError\u001b[0m                                 Traceback (most recent call last)",
            "\u001b[0;32m<ipython-input-5-cd0baf3fb36a>\u001b[0m in \u001b[0;36m<module>\u001b[0;34m()\u001b[0m\n\u001b[1;32m      7\u001b[0m     \u001b[0mnoSmokeChildren\u001b[0m\u001b[0;34m.\u001b[0m\u001b[0mappend\u001b[0m\u001b[0;34m(\u001b[0m\u001b[0mdata\u001b[0m\u001b[0;34m[\u001b[0m\u001b[0;34m'Birthweight'\u001b[0m\u001b[0;34m]\u001b[0m\u001b[0;34m[\u001b[0m\u001b[0mi\u001b[0m\u001b[0;34m]\u001b[0m\u001b[0;34m)\u001b[0m\u001b[0;34m\u001b[0m\u001b[0;34m\u001b[0m\u001b[0m\n\u001b[1;32m      8\u001b[0m \u001b[0;34m\u001b[0m\u001b[0m\n\u001b[0;32m----> 9\u001b[0;31m \u001b[0mstats\u001b[0m\u001b[0;34m.\u001b[0m\u001b[0mttest_ind\u001b[0m\u001b[0;34m(\u001b[0m\u001b[0mSmokeChildren\u001b[0m\u001b[0;34m,\u001b[0m\u001b[0mnoSmokeChildren\u001b[0m\u001b[0;34m,\u001b[0m \u001b[0malternative\u001b[0m\u001b[0;34m=\u001b[0m\u001b[0;34m'less'\u001b[0m\u001b[0;34m)\u001b[0m \u001b[0;31m# як альтернативу оберемо гіпотезу less - у курців діти мають меншу вагу ніж в не курців\u001b[0m\u001b[0;34m\u001b[0m\u001b[0;34m\u001b[0m\u001b[0m\n\u001b[0m",
            "\u001b[0;31mTypeError\u001b[0m: ttest_ind() got an unexpected keyword argument 'alternative'"
          ]
        }
      ]
    },
    {
      "cell_type": "markdown",
      "source": [
        "Отримали такий результат : Р-критерій = 0.021**(<0.05)** , що з теорії ймовірності означає що гіпотеза відхиляється і приймається Н1(діти курців дійсно мають меншу вагу ніж діти не курців)"
      ],
      "metadata": {
        "id": "bg70Sm5JFBn3"
      }
    },
    {
      "cell_type": "markdown",
      "source": [
        "**Завдання №4**\n",
        "Чи є закономірність між зростом матері та дитини ?\n",
        "\n",
        "Застосуємо для цього коефіціент кореляції (corcoef) та перевіримо взаємозв'язок між нашими сукупностями."
      ],
      "metadata": {
        "id": "6g6zDnVxKhjA"
      }
    },
    {
      "cell_type": "code",
      "source": [
        "mother_height = np.array(data['mheight'])\n",
        "child_height = np.array(data['Length'])\n",
        "np.corrcoef(mother_height,child_height)"
      ],
      "metadata": {
        "id": "Jb10QKHGG_Mm"
      },
      "execution_count": null,
      "outputs": []
    },
    {
      "cell_type": "markdown",
      "source": [
        "Проаналізуємо результати. Бачимо одиниці на головній діагоналі, вони вказують, що коефіцієнт кореляції змінної самої з собою -1. Друга діагональ має рівні значення що і відповідають нам на питання кореляції між сукупностями.\n",
        "\n",
        "При оцінці сили зв'язку коефіцієнтів кореляції використовується шкала Чеддока. За цією шкалою ми маємо що наше значення ~ 0.48 відповідає слабкому зв'язку , хоча значення дуже близьке до 0.5 (середній зв'язок [0.5;0.7]) "
      ],
      "metadata": {
        "id": "vOWp7oV-Rux2"
      }
    },
    {
      "cell_type": "markdown",
      "source": [
        "Подивимось на графіку на наші значення."
      ],
      "metadata": {
        "id": "V6SR36l7UNke"
      }
    },
    {
      "cell_type": "code",
      "source": [
        "import matplotlib as plt\n",
        "fig, ax = plt.pyplot.subplots()\n",
        "ax.scatter(mother_height,child_height)\n",
        "ax.set_xlabel(\"Mother Height\")\n",
        "ax.set_ylabel(\"Child_Height\")\n",
        "plt.pyplot.show()"
      ],
      "metadata": {
        "id": "0N3AtaxnRe7S"
      },
      "execution_count": null,
      "outputs": []
    },
    {
      "cell_type": "markdown",
      "source": [
        "Як бачимо всі значення розкинуті вздовж уявної прямої яку можна провести від точки (150,44) до (180,58) , хоча і недуже чітко , що якраз відповідає значенню 0.48 "
      ],
      "metadata": {
        "id": "SBP9EgFVVNfE"
      }
    }
  ]
}