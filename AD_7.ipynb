{
  "nbformat": 4,
  "nbformat_minor": 0,
  "metadata": {
    "colab": {
      "provenance": [],
      "mount_file_id": "1FOFRwLv8DGj6li3Gr3GJIktrmpdkc2xf",
      "authorship_tag": "ABX9TyNy0a5oTPK9Nm4HiyTLVv3T",
      "include_colab_link": true
    },
    "kernelspec": {
      "name": "python3",
      "display_name": "Python 3"
    },
    "language_info": {
      "name": "python"
    }
  },
  "cells": [
    {
      "cell_type": "markdown",
      "metadata": {
        "id": "view-in-github",
        "colab_type": "text"
      },
      "source": [
        "<a href=\"https://colab.research.google.com/github/Katoshy/Data-Analysis-Projects/blob/main/AD_7.ipynb\" target=\"_parent\"><img src=\"https://colab.research.google.com/assets/colab-badge.svg\" alt=\"Open In Colab\"/></a>"
      ]
    },
    {
      "cell_type": "markdown",
      "source": [
        "**Підготовка**\n",
        "Підключення бібліотек та завантаження даних"
      ],
      "metadata": {
        "id": "K8aH6pwZ6RNf"
      }
    },
    {
      "cell_type": "code",
      "source": [
        "import numpy as np\n",
        "import pandas as pd\n",
        "import seaborn as sns\n",
        "data = pd.read_csv(\"/content/drive/MyDrive/Colab Notebooks/possum.csv\")\n",
        "data"
      ],
      "metadata": {
        "id": "nINA83C6Tb5V",
        "colab": {
          "base_uri": "https://localhost:8080/",
          "height": 424
        },
        "outputId": "02363a31-5c78-43ed-d4de-813d1b8f2c7a"
      },
      "execution_count": null,
      "outputs": [
        {
          "output_type": "execute_result",
          "data": {
            "text/plain": [
              "     Unnamed: 0  case  site    Pop sex  age  hdlngth  skullw  totlngth  taill  \\\n",
              "0             0     1     1    Vic   m  8.0     94.1    60.4      89.0   36.0   \n",
              "1             1     2     1    Vic   f  6.0     92.5    57.6      91.5   36.5   \n",
              "2             2     3     1    Vic   f  6.0     94.0    60.0      95.5   39.0   \n",
              "3             3     4     1    Vic   f  6.0     93.2    57.1      92.0   38.0   \n",
              "4             4     5     1    Vic   f  2.0     91.5    56.3      85.5   36.0   \n",
              "..          ...   ...   ...    ...  ..  ...      ...     ...       ...    ...   \n",
              "96           99   100     7  other   m  1.0     89.5    56.0      81.5   36.5   \n",
              "97          100   101     7  other   m  1.0     88.6    54.7      82.5   39.0   \n",
              "98          101   102     7  other   f  6.0     92.4    55.0      89.0   38.0   \n",
              "99          102   103     7  other   m  4.0     91.5    55.2      82.5   36.5   \n",
              "100         103   104     7  other   f  3.0     93.6    59.9      89.0   40.0   \n",
              "\n",
              "     footlgth  earconch   eye  chest  belly  \n",
              "0        74.5      54.5  15.2   28.0   36.0  \n",
              "1        72.5      51.2  16.0   28.5   33.0  \n",
              "2        75.4      51.9  15.5   30.0   34.0  \n",
              "3        76.1      52.2  15.2   28.0   34.0  \n",
              "4        71.0      53.2  15.1   28.5   33.0  \n",
              "..        ...       ...   ...    ...    ...  \n",
              "96       66.0      46.8  14.8   23.0   27.0  \n",
              "97       64.4      48.0  14.0   25.0   33.0  \n",
              "98       63.5      45.4  13.0   25.0   30.0  \n",
              "99       62.9      45.9  15.4   25.0   29.0  \n",
              "100      67.6      46.0  14.8   28.5   33.5  \n",
              "\n",
              "[101 rows x 15 columns]"
            ],
            "text/html": [
              "\n",
              "  <div id=\"df-37998db5-ac1c-478a-a289-13f80795e827\">\n",
              "    <div class=\"colab-df-container\">\n",
              "      <div>\n",
              "<style scoped>\n",
              "    .dataframe tbody tr th:only-of-type {\n",
              "        vertical-align: middle;\n",
              "    }\n",
              "\n",
              "    .dataframe tbody tr th {\n",
              "        vertical-align: top;\n",
              "    }\n",
              "\n",
              "    .dataframe thead th {\n",
              "        text-align: right;\n",
              "    }\n",
              "</style>\n",
              "<table border=\"1\" class=\"dataframe\">\n",
              "  <thead>\n",
              "    <tr style=\"text-align: right;\">\n",
              "      <th></th>\n",
              "      <th>Unnamed: 0</th>\n",
              "      <th>case</th>\n",
              "      <th>site</th>\n",
              "      <th>Pop</th>\n",
              "      <th>sex</th>\n",
              "      <th>age</th>\n",
              "      <th>hdlngth</th>\n",
              "      <th>skullw</th>\n",
              "      <th>totlngth</th>\n",
              "      <th>taill</th>\n",
              "      <th>footlgth</th>\n",
              "      <th>earconch</th>\n",
              "      <th>eye</th>\n",
              "      <th>chest</th>\n",
              "      <th>belly</th>\n",
              "    </tr>\n",
              "  </thead>\n",
              "  <tbody>\n",
              "    <tr>\n",
              "      <th>0</th>\n",
              "      <td>0</td>\n",
              "      <td>1</td>\n",
              "      <td>1</td>\n",
              "      <td>Vic</td>\n",
              "      <td>m</td>\n",
              "      <td>8.0</td>\n",
              "      <td>94.1</td>\n",
              "      <td>60.4</td>\n",
              "      <td>89.0</td>\n",
              "      <td>36.0</td>\n",
              "      <td>74.5</td>\n",
              "      <td>54.5</td>\n",
              "      <td>15.2</td>\n",
              "      <td>28.0</td>\n",
              "      <td>36.0</td>\n",
              "    </tr>\n",
              "    <tr>\n",
              "      <th>1</th>\n",
              "      <td>1</td>\n",
              "      <td>2</td>\n",
              "      <td>1</td>\n",
              "      <td>Vic</td>\n",
              "      <td>f</td>\n",
              "      <td>6.0</td>\n",
              "      <td>92.5</td>\n",
              "      <td>57.6</td>\n",
              "      <td>91.5</td>\n",
              "      <td>36.5</td>\n",
              "      <td>72.5</td>\n",
              "      <td>51.2</td>\n",
              "      <td>16.0</td>\n",
              "      <td>28.5</td>\n",
              "      <td>33.0</td>\n",
              "    </tr>\n",
              "    <tr>\n",
              "      <th>2</th>\n",
              "      <td>2</td>\n",
              "      <td>3</td>\n",
              "      <td>1</td>\n",
              "      <td>Vic</td>\n",
              "      <td>f</td>\n",
              "      <td>6.0</td>\n",
              "      <td>94.0</td>\n",
              "      <td>60.0</td>\n",
              "      <td>95.5</td>\n",
              "      <td>39.0</td>\n",
              "      <td>75.4</td>\n",
              "      <td>51.9</td>\n",
              "      <td>15.5</td>\n",
              "      <td>30.0</td>\n",
              "      <td>34.0</td>\n",
              "    </tr>\n",
              "    <tr>\n",
              "      <th>3</th>\n",
              "      <td>3</td>\n",
              "      <td>4</td>\n",
              "      <td>1</td>\n",
              "      <td>Vic</td>\n",
              "      <td>f</td>\n",
              "      <td>6.0</td>\n",
              "      <td>93.2</td>\n",
              "      <td>57.1</td>\n",
              "      <td>92.0</td>\n",
              "      <td>38.0</td>\n",
              "      <td>76.1</td>\n",
              "      <td>52.2</td>\n",
              "      <td>15.2</td>\n",
              "      <td>28.0</td>\n",
              "      <td>34.0</td>\n",
              "    </tr>\n",
              "    <tr>\n",
              "      <th>4</th>\n",
              "      <td>4</td>\n",
              "      <td>5</td>\n",
              "      <td>1</td>\n",
              "      <td>Vic</td>\n",
              "      <td>f</td>\n",
              "      <td>2.0</td>\n",
              "      <td>91.5</td>\n",
              "      <td>56.3</td>\n",
              "      <td>85.5</td>\n",
              "      <td>36.0</td>\n",
              "      <td>71.0</td>\n",
              "      <td>53.2</td>\n",
              "      <td>15.1</td>\n",
              "      <td>28.5</td>\n",
              "      <td>33.0</td>\n",
              "    </tr>\n",
              "    <tr>\n",
              "      <th>...</th>\n",
              "      <td>...</td>\n",
              "      <td>...</td>\n",
              "      <td>...</td>\n",
              "      <td>...</td>\n",
              "      <td>...</td>\n",
              "      <td>...</td>\n",
              "      <td>...</td>\n",
              "      <td>...</td>\n",
              "      <td>...</td>\n",
              "      <td>...</td>\n",
              "      <td>...</td>\n",
              "      <td>...</td>\n",
              "      <td>...</td>\n",
              "      <td>...</td>\n",
              "      <td>...</td>\n",
              "    </tr>\n",
              "    <tr>\n",
              "      <th>96</th>\n",
              "      <td>99</td>\n",
              "      <td>100</td>\n",
              "      <td>7</td>\n",
              "      <td>other</td>\n",
              "      <td>m</td>\n",
              "      <td>1.0</td>\n",
              "      <td>89.5</td>\n",
              "      <td>56.0</td>\n",
              "      <td>81.5</td>\n",
              "      <td>36.5</td>\n",
              "      <td>66.0</td>\n",
              "      <td>46.8</td>\n",
              "      <td>14.8</td>\n",
              "      <td>23.0</td>\n",
              "      <td>27.0</td>\n",
              "    </tr>\n",
              "    <tr>\n",
              "      <th>97</th>\n",
              "      <td>100</td>\n",
              "      <td>101</td>\n",
              "      <td>7</td>\n",
              "      <td>other</td>\n",
              "      <td>m</td>\n",
              "      <td>1.0</td>\n",
              "      <td>88.6</td>\n",
              "      <td>54.7</td>\n",
              "      <td>82.5</td>\n",
              "      <td>39.0</td>\n",
              "      <td>64.4</td>\n",
              "      <td>48.0</td>\n",
              "      <td>14.0</td>\n",
              "      <td>25.0</td>\n",
              "      <td>33.0</td>\n",
              "    </tr>\n",
              "    <tr>\n",
              "      <th>98</th>\n",
              "      <td>101</td>\n",
              "      <td>102</td>\n",
              "      <td>7</td>\n",
              "      <td>other</td>\n",
              "      <td>f</td>\n",
              "      <td>6.0</td>\n",
              "      <td>92.4</td>\n",
              "      <td>55.0</td>\n",
              "      <td>89.0</td>\n",
              "      <td>38.0</td>\n",
              "      <td>63.5</td>\n",
              "      <td>45.4</td>\n",
              "      <td>13.0</td>\n",
              "      <td>25.0</td>\n",
              "      <td>30.0</td>\n",
              "    </tr>\n",
              "    <tr>\n",
              "      <th>99</th>\n",
              "      <td>102</td>\n",
              "      <td>103</td>\n",
              "      <td>7</td>\n",
              "      <td>other</td>\n",
              "      <td>m</td>\n",
              "      <td>4.0</td>\n",
              "      <td>91.5</td>\n",
              "      <td>55.2</td>\n",
              "      <td>82.5</td>\n",
              "      <td>36.5</td>\n",
              "      <td>62.9</td>\n",
              "      <td>45.9</td>\n",
              "      <td>15.4</td>\n",
              "      <td>25.0</td>\n",
              "      <td>29.0</td>\n",
              "    </tr>\n",
              "    <tr>\n",
              "      <th>100</th>\n",
              "      <td>103</td>\n",
              "      <td>104</td>\n",
              "      <td>7</td>\n",
              "      <td>other</td>\n",
              "      <td>f</td>\n",
              "      <td>3.0</td>\n",
              "      <td>93.6</td>\n",
              "      <td>59.9</td>\n",
              "      <td>89.0</td>\n",
              "      <td>40.0</td>\n",
              "      <td>67.6</td>\n",
              "      <td>46.0</td>\n",
              "      <td>14.8</td>\n",
              "      <td>28.5</td>\n",
              "      <td>33.5</td>\n",
              "    </tr>\n",
              "  </tbody>\n",
              "</table>\n",
              "<p>101 rows × 15 columns</p>\n",
              "</div>\n",
              "      <button class=\"colab-df-convert\" onclick=\"convertToInteractive('df-37998db5-ac1c-478a-a289-13f80795e827')\"\n",
              "              title=\"Convert this dataframe to an interactive table.\"\n",
              "              style=\"display:none;\">\n",
              "        \n",
              "  <svg xmlns=\"http://www.w3.org/2000/svg\" height=\"24px\"viewBox=\"0 0 24 24\"\n",
              "       width=\"24px\">\n",
              "    <path d=\"M0 0h24v24H0V0z\" fill=\"none\"/>\n",
              "    <path d=\"M18.56 5.44l.94 2.06.94-2.06 2.06-.94-2.06-.94-.94-2.06-.94 2.06-2.06.94zm-11 1L8.5 8.5l.94-2.06 2.06-.94-2.06-.94L8.5 2.5l-.94 2.06-2.06.94zm10 10l.94 2.06.94-2.06 2.06-.94-2.06-.94-.94-2.06-.94 2.06-2.06.94z\"/><path d=\"M17.41 7.96l-1.37-1.37c-.4-.4-.92-.59-1.43-.59-.52 0-1.04.2-1.43.59L10.3 9.45l-7.72 7.72c-.78.78-.78 2.05 0 2.83L4 21.41c.39.39.9.59 1.41.59.51 0 1.02-.2 1.41-.59l7.78-7.78 2.81-2.81c.8-.78.8-2.07 0-2.86zM5.41 20L4 18.59l7.72-7.72 1.47 1.35L5.41 20z\"/>\n",
              "  </svg>\n",
              "      </button>\n",
              "      \n",
              "  <style>\n",
              "    .colab-df-container {\n",
              "      display:flex;\n",
              "      flex-wrap:wrap;\n",
              "      gap: 12px;\n",
              "    }\n",
              "\n",
              "    .colab-df-convert {\n",
              "      background-color: #E8F0FE;\n",
              "      border: none;\n",
              "      border-radius: 50%;\n",
              "      cursor: pointer;\n",
              "      display: none;\n",
              "      fill: #1967D2;\n",
              "      height: 32px;\n",
              "      padding: 0 0 0 0;\n",
              "      width: 32px;\n",
              "    }\n",
              "\n",
              "    .colab-df-convert:hover {\n",
              "      background-color: #E2EBFA;\n",
              "      box-shadow: 0px 1px 2px rgba(60, 64, 67, 0.3), 0px 1px 3px 1px rgba(60, 64, 67, 0.15);\n",
              "      fill: #174EA6;\n",
              "    }\n",
              "\n",
              "    [theme=dark] .colab-df-convert {\n",
              "      background-color: #3B4455;\n",
              "      fill: #D2E3FC;\n",
              "    }\n",
              "\n",
              "    [theme=dark] .colab-df-convert:hover {\n",
              "      background-color: #434B5C;\n",
              "      box-shadow: 0px 1px 3px 1px rgba(0, 0, 0, 0.15);\n",
              "      filter: drop-shadow(0px 1px 2px rgba(0, 0, 0, 0.3));\n",
              "      fill: #FFFFFF;\n",
              "    }\n",
              "  </style>\n",
              "\n",
              "      <script>\n",
              "        const buttonEl =\n",
              "          document.querySelector('#df-37998db5-ac1c-478a-a289-13f80795e827 button.colab-df-convert');\n",
              "        buttonEl.style.display =\n",
              "          google.colab.kernel.accessAllowed ? 'block' : 'none';\n",
              "\n",
              "        async function convertToInteractive(key) {\n",
              "          const element = document.querySelector('#df-37998db5-ac1c-478a-a289-13f80795e827');\n",
              "          const dataTable =\n",
              "            await google.colab.kernel.invokeFunction('convertToInteractive',\n",
              "                                                     [key], {});\n",
              "          if (!dataTable) return;\n",
              "\n",
              "          const docLinkHtml = 'Like what you see? Visit the ' +\n",
              "            '<a target=\"_blank\" href=https://colab.research.google.com/notebooks/data_table.ipynb>data table notebook</a>'\n",
              "            + ' to learn more about interactive tables.';\n",
              "          element.innerHTML = '';\n",
              "          dataTable['output_type'] = 'display_data';\n",
              "          await google.colab.output.renderOutput(dataTable, element);\n",
              "          const docLink = document.createElement('div');\n",
              "          docLink.innerHTML = docLinkHtml;\n",
              "          element.appendChild(docLink);\n",
              "        }\n",
              "      </script>\n",
              "    </div>\n",
              "  </div>\n",
              "  "
            ]
          },
          "metadata": {},
          "execution_count": 2
        }
      ]
    },
    {
      "cell_type": "markdown",
      "source": [
        "Переглянемо інформацію про наш ДатаФрейм"
      ],
      "metadata": {
        "id": "YwcnzXuUp1Bx"
      }
    },
    {
      "cell_type": "code",
      "source": [
        "data.info()\n",
        "print(data.describe().T)"
      ],
      "metadata": {
        "colab": {
          "base_uri": "https://localhost:8080/"
        },
        "id": "G4xhPcYfjYVI",
        "outputId": "2050d128-b54a-4cb3-8378-3e4a553130f0"
      },
      "execution_count": null,
      "outputs": [
        {
          "output_type": "stream",
          "name": "stdout",
          "text": [
            "<class 'pandas.core.frame.DataFrame'>\n",
            "RangeIndex: 101 entries, 0 to 100\n",
            "Data columns (total 15 columns):\n",
            " #   Column      Non-Null Count  Dtype  \n",
            "---  ------      --------------  -----  \n",
            " 0   Unnamed: 0  101 non-null    int64  \n",
            " 1   case        101 non-null    int64  \n",
            " 2   site        101 non-null    int64  \n",
            " 3   Pop         101 non-null    object \n",
            " 4   sex         101 non-null    object \n",
            " 5   age         101 non-null    float64\n",
            " 6   hdlngth     101 non-null    float64\n",
            " 7   skullw      101 non-null    float64\n",
            " 8   totlngth    101 non-null    float64\n",
            " 9   taill       101 non-null    float64\n",
            " 10  footlgth    101 non-null    float64\n",
            " 11  earconch    101 non-null    float64\n",
            " 12  eye         101 non-null    float64\n",
            " 13  chest       101 non-null    float64\n",
            " 14  belly       101 non-null    float64\n",
            "dtypes: float64(10), int64(3), object(2)\n",
            "memory usage: 12.0+ KB\n",
            "            count       mean        std   min   25%   50%   75%    max\n",
            "Unnamed: 0  101.0  51.762376  30.573894   0.0  25.0  53.0  78.0  103.0\n",
            "case        101.0  52.762376  30.573894   1.0  26.0  54.0  79.0  104.0\n",
            "site        101.0   3.673267   2.366892   1.0   1.0   4.0   6.0    7.0\n",
            "age         101.0   3.821782   1.915182   1.0   2.0   3.0   5.0    9.0\n",
            "hdlngth     101.0  92.730693   3.518714  82.5  90.7  92.9  94.8  103.1\n",
            "skullw      101.0  56.960396   3.102679  50.0  55.0  56.4  58.1   68.6\n",
            "totlngth    101.0  87.269307   4.196802  75.0  84.5  88.0  90.0   96.5\n",
            "taill       101.0  37.049505   1.971681  32.0  36.0  37.0  38.0   43.0\n",
            "footlgth    101.0  68.398020   4.413502  60.3  64.5  67.9  72.5   77.9\n",
            "earconch    101.0  48.133663   4.060352  41.3  44.8  46.8  52.0   56.2\n",
            "eye         101.0  15.050495   1.058643  12.8  14.4  14.9  15.7   17.8\n",
            "chest       101.0  27.064356   2.020722  22.0  25.5  27.0  28.0   32.0\n",
            "belly       101.0  32.638614   2.727745  25.0  31.0  32.5  34.0   40.0\n"
          ]
        }
      ]
    },
    {
      "cell_type": "markdown",
      "source": [
        "Подивемось чи є пусті значення "
      ],
      "metadata": {
        "id": "QbE69rm_qFaY"
      }
    },
    {
      "cell_type": "code",
      "source": [
        "contain_null = data[data.age.isna() | data.footlgth.isna()]\n",
        "print(contain_null.head())\n",
        "print(contain_null.shape[0])"
      ],
      "metadata": {
        "colab": {
          "base_uri": "https://localhost:8080/"
        },
        "id": "a2L0uoz-jgJ_",
        "outputId": "f14eca57-db7b-4050-916f-48cdb410ef61"
      },
      "execution_count": null,
      "outputs": [
        {
          "output_type": "stream",
          "name": "stdout",
          "text": [
            "Empty DataFrame\n",
            "Columns: [Unnamed: 0, case, site, Pop, sex, age, hdlngth, skullw, totlngth, taill, footlgth, earconch, eye, chest, belly]\n",
            "Index: []\n",
            "0\n"
          ]
        }
      ]
    },
    {
      "cell_type": "code",
      "source": [
        "data['male'] = [1 if possum =='m' else 0 for possum in data['sex']]\n",
        "data"
      ],
      "metadata": {
        "colab": {
          "base_uri": "https://localhost:8080/",
          "height": 424
        },
        "id": "Y1i6JpZX1ZdU",
        "outputId": "b01ad33e-73cf-4af3-90ab-136ba9e9f495"
      },
      "execution_count": null,
      "outputs": [
        {
          "output_type": "execute_result",
          "data": {
            "text/plain": [
              "     Unnamed: 0  case  site    Pop sex  age  hdlngth  skullw  totlngth  taill  \\\n",
              "0             0     1     1    Vic   m  8.0     94.1    60.4      89.0   36.0   \n",
              "1             1     2     1    Vic   f  6.0     92.5    57.6      91.5   36.5   \n",
              "2             2     3     1    Vic   f  6.0     94.0    60.0      95.5   39.0   \n",
              "3             3     4     1    Vic   f  6.0     93.2    57.1      92.0   38.0   \n",
              "4             4     5     1    Vic   f  2.0     91.5    56.3      85.5   36.0   \n",
              "..          ...   ...   ...    ...  ..  ...      ...     ...       ...    ...   \n",
              "96           99   100     7  other   m  1.0     89.5    56.0      81.5   36.5   \n",
              "97          100   101     7  other   m  1.0     88.6    54.7      82.5   39.0   \n",
              "98          101   102     7  other   f  6.0     92.4    55.0      89.0   38.0   \n",
              "99          102   103     7  other   m  4.0     91.5    55.2      82.5   36.5   \n",
              "100         103   104     7  other   f  3.0     93.6    59.9      89.0   40.0   \n",
              "\n",
              "     footlgth  earconch   eye  chest  belly  male  \n",
              "0        74.5      54.5  15.2   28.0   36.0     1  \n",
              "1        72.5      51.2  16.0   28.5   33.0     0  \n",
              "2        75.4      51.9  15.5   30.0   34.0     0  \n",
              "3        76.1      52.2  15.2   28.0   34.0     0  \n",
              "4        71.0      53.2  15.1   28.5   33.0     0  \n",
              "..        ...       ...   ...    ...    ...   ...  \n",
              "96       66.0      46.8  14.8   23.0   27.0     1  \n",
              "97       64.4      48.0  14.0   25.0   33.0     1  \n",
              "98       63.5      45.4  13.0   25.0   30.0     0  \n",
              "99       62.9      45.9  15.4   25.0   29.0     1  \n",
              "100      67.6      46.0  14.8   28.5   33.5     0  \n",
              "\n",
              "[101 rows x 16 columns]"
            ],
            "text/html": [
              "\n",
              "  <div id=\"df-7ec5db09-3433-4b54-bd6b-85b4f75db38c\">\n",
              "    <div class=\"colab-df-container\">\n",
              "      <div>\n",
              "<style scoped>\n",
              "    .dataframe tbody tr th:only-of-type {\n",
              "        vertical-align: middle;\n",
              "    }\n",
              "\n",
              "    .dataframe tbody tr th {\n",
              "        vertical-align: top;\n",
              "    }\n",
              "\n",
              "    .dataframe thead th {\n",
              "        text-align: right;\n",
              "    }\n",
              "</style>\n",
              "<table border=\"1\" class=\"dataframe\">\n",
              "  <thead>\n",
              "    <tr style=\"text-align: right;\">\n",
              "      <th></th>\n",
              "      <th>Unnamed: 0</th>\n",
              "      <th>case</th>\n",
              "      <th>site</th>\n",
              "      <th>Pop</th>\n",
              "      <th>sex</th>\n",
              "      <th>age</th>\n",
              "      <th>hdlngth</th>\n",
              "      <th>skullw</th>\n",
              "      <th>totlngth</th>\n",
              "      <th>taill</th>\n",
              "      <th>footlgth</th>\n",
              "      <th>earconch</th>\n",
              "      <th>eye</th>\n",
              "      <th>chest</th>\n",
              "      <th>belly</th>\n",
              "      <th>male</th>\n",
              "    </tr>\n",
              "  </thead>\n",
              "  <tbody>\n",
              "    <tr>\n",
              "      <th>0</th>\n",
              "      <td>0</td>\n",
              "      <td>1</td>\n",
              "      <td>1</td>\n",
              "      <td>Vic</td>\n",
              "      <td>m</td>\n",
              "      <td>8.0</td>\n",
              "      <td>94.1</td>\n",
              "      <td>60.4</td>\n",
              "      <td>89.0</td>\n",
              "      <td>36.0</td>\n",
              "      <td>74.5</td>\n",
              "      <td>54.5</td>\n",
              "      <td>15.2</td>\n",
              "      <td>28.0</td>\n",
              "      <td>36.0</td>\n",
              "      <td>1</td>\n",
              "    </tr>\n",
              "    <tr>\n",
              "      <th>1</th>\n",
              "      <td>1</td>\n",
              "      <td>2</td>\n",
              "      <td>1</td>\n",
              "      <td>Vic</td>\n",
              "      <td>f</td>\n",
              "      <td>6.0</td>\n",
              "      <td>92.5</td>\n",
              "      <td>57.6</td>\n",
              "      <td>91.5</td>\n",
              "      <td>36.5</td>\n",
              "      <td>72.5</td>\n",
              "      <td>51.2</td>\n",
              "      <td>16.0</td>\n",
              "      <td>28.5</td>\n",
              "      <td>33.0</td>\n",
              "      <td>0</td>\n",
              "    </tr>\n",
              "    <tr>\n",
              "      <th>2</th>\n",
              "      <td>2</td>\n",
              "      <td>3</td>\n",
              "      <td>1</td>\n",
              "      <td>Vic</td>\n",
              "      <td>f</td>\n",
              "      <td>6.0</td>\n",
              "      <td>94.0</td>\n",
              "      <td>60.0</td>\n",
              "      <td>95.5</td>\n",
              "      <td>39.0</td>\n",
              "      <td>75.4</td>\n",
              "      <td>51.9</td>\n",
              "      <td>15.5</td>\n",
              "      <td>30.0</td>\n",
              "      <td>34.0</td>\n",
              "      <td>0</td>\n",
              "    </tr>\n",
              "    <tr>\n",
              "      <th>3</th>\n",
              "      <td>3</td>\n",
              "      <td>4</td>\n",
              "      <td>1</td>\n",
              "      <td>Vic</td>\n",
              "      <td>f</td>\n",
              "      <td>6.0</td>\n",
              "      <td>93.2</td>\n",
              "      <td>57.1</td>\n",
              "      <td>92.0</td>\n",
              "      <td>38.0</td>\n",
              "      <td>76.1</td>\n",
              "      <td>52.2</td>\n",
              "      <td>15.2</td>\n",
              "      <td>28.0</td>\n",
              "      <td>34.0</td>\n",
              "      <td>0</td>\n",
              "    </tr>\n",
              "    <tr>\n",
              "      <th>4</th>\n",
              "      <td>4</td>\n",
              "      <td>5</td>\n",
              "      <td>1</td>\n",
              "      <td>Vic</td>\n",
              "      <td>f</td>\n",
              "      <td>2.0</td>\n",
              "      <td>91.5</td>\n",
              "      <td>56.3</td>\n",
              "      <td>85.5</td>\n",
              "      <td>36.0</td>\n",
              "      <td>71.0</td>\n",
              "      <td>53.2</td>\n",
              "      <td>15.1</td>\n",
              "      <td>28.5</td>\n",
              "      <td>33.0</td>\n",
              "      <td>0</td>\n",
              "    </tr>\n",
              "    <tr>\n",
              "      <th>...</th>\n",
              "      <td>...</td>\n",
              "      <td>...</td>\n",
              "      <td>...</td>\n",
              "      <td>...</td>\n",
              "      <td>...</td>\n",
              "      <td>...</td>\n",
              "      <td>...</td>\n",
              "      <td>...</td>\n",
              "      <td>...</td>\n",
              "      <td>...</td>\n",
              "      <td>...</td>\n",
              "      <td>...</td>\n",
              "      <td>...</td>\n",
              "      <td>...</td>\n",
              "      <td>...</td>\n",
              "      <td>...</td>\n",
              "    </tr>\n",
              "    <tr>\n",
              "      <th>96</th>\n",
              "      <td>99</td>\n",
              "      <td>100</td>\n",
              "      <td>7</td>\n",
              "      <td>other</td>\n",
              "      <td>m</td>\n",
              "      <td>1.0</td>\n",
              "      <td>89.5</td>\n",
              "      <td>56.0</td>\n",
              "      <td>81.5</td>\n",
              "      <td>36.5</td>\n",
              "      <td>66.0</td>\n",
              "      <td>46.8</td>\n",
              "      <td>14.8</td>\n",
              "      <td>23.0</td>\n",
              "      <td>27.0</td>\n",
              "      <td>1</td>\n",
              "    </tr>\n",
              "    <tr>\n",
              "      <th>97</th>\n",
              "      <td>100</td>\n",
              "      <td>101</td>\n",
              "      <td>7</td>\n",
              "      <td>other</td>\n",
              "      <td>m</td>\n",
              "      <td>1.0</td>\n",
              "      <td>88.6</td>\n",
              "      <td>54.7</td>\n",
              "      <td>82.5</td>\n",
              "      <td>39.0</td>\n",
              "      <td>64.4</td>\n",
              "      <td>48.0</td>\n",
              "      <td>14.0</td>\n",
              "      <td>25.0</td>\n",
              "      <td>33.0</td>\n",
              "      <td>1</td>\n",
              "    </tr>\n",
              "    <tr>\n",
              "      <th>98</th>\n",
              "      <td>101</td>\n",
              "      <td>102</td>\n",
              "      <td>7</td>\n",
              "      <td>other</td>\n",
              "      <td>f</td>\n",
              "      <td>6.0</td>\n",
              "      <td>92.4</td>\n",
              "      <td>55.0</td>\n",
              "      <td>89.0</td>\n",
              "      <td>38.0</td>\n",
              "      <td>63.5</td>\n",
              "      <td>45.4</td>\n",
              "      <td>13.0</td>\n",
              "      <td>25.0</td>\n",
              "      <td>30.0</td>\n",
              "      <td>0</td>\n",
              "    </tr>\n",
              "    <tr>\n",
              "      <th>99</th>\n",
              "      <td>102</td>\n",
              "      <td>103</td>\n",
              "      <td>7</td>\n",
              "      <td>other</td>\n",
              "      <td>m</td>\n",
              "      <td>4.0</td>\n",
              "      <td>91.5</td>\n",
              "      <td>55.2</td>\n",
              "      <td>82.5</td>\n",
              "      <td>36.5</td>\n",
              "      <td>62.9</td>\n",
              "      <td>45.9</td>\n",
              "      <td>15.4</td>\n",
              "      <td>25.0</td>\n",
              "      <td>29.0</td>\n",
              "      <td>1</td>\n",
              "    </tr>\n",
              "    <tr>\n",
              "      <th>100</th>\n",
              "      <td>103</td>\n",
              "      <td>104</td>\n",
              "      <td>7</td>\n",
              "      <td>other</td>\n",
              "      <td>f</td>\n",
              "      <td>3.0</td>\n",
              "      <td>93.6</td>\n",
              "      <td>59.9</td>\n",
              "      <td>89.0</td>\n",
              "      <td>40.0</td>\n",
              "      <td>67.6</td>\n",
              "      <td>46.0</td>\n",
              "      <td>14.8</td>\n",
              "      <td>28.5</td>\n",
              "      <td>33.5</td>\n",
              "      <td>0</td>\n",
              "    </tr>\n",
              "  </tbody>\n",
              "</table>\n",
              "<p>101 rows × 16 columns</p>\n",
              "</div>\n",
              "      <button class=\"colab-df-convert\" onclick=\"convertToInteractive('df-7ec5db09-3433-4b54-bd6b-85b4f75db38c')\"\n",
              "              title=\"Convert this dataframe to an interactive table.\"\n",
              "              style=\"display:none;\">\n",
              "        \n",
              "  <svg xmlns=\"http://www.w3.org/2000/svg\" height=\"24px\"viewBox=\"0 0 24 24\"\n",
              "       width=\"24px\">\n",
              "    <path d=\"M0 0h24v24H0V0z\" fill=\"none\"/>\n",
              "    <path d=\"M18.56 5.44l.94 2.06.94-2.06 2.06-.94-2.06-.94-.94-2.06-.94 2.06-2.06.94zm-11 1L8.5 8.5l.94-2.06 2.06-.94-2.06-.94L8.5 2.5l-.94 2.06-2.06.94zm10 10l.94 2.06.94-2.06 2.06-.94-2.06-.94-.94-2.06-.94 2.06-2.06.94z\"/><path d=\"M17.41 7.96l-1.37-1.37c-.4-.4-.92-.59-1.43-.59-.52 0-1.04.2-1.43.59L10.3 9.45l-7.72 7.72c-.78.78-.78 2.05 0 2.83L4 21.41c.39.39.9.59 1.41.59.51 0 1.02-.2 1.41-.59l7.78-7.78 2.81-2.81c.8-.78.8-2.07 0-2.86zM5.41 20L4 18.59l7.72-7.72 1.47 1.35L5.41 20z\"/>\n",
              "  </svg>\n",
              "      </button>\n",
              "      \n",
              "  <style>\n",
              "    .colab-df-container {\n",
              "      display:flex;\n",
              "      flex-wrap:wrap;\n",
              "      gap: 12px;\n",
              "    }\n",
              "\n",
              "    .colab-df-convert {\n",
              "      background-color: #E8F0FE;\n",
              "      border: none;\n",
              "      border-radius: 50%;\n",
              "      cursor: pointer;\n",
              "      display: none;\n",
              "      fill: #1967D2;\n",
              "      height: 32px;\n",
              "      padding: 0 0 0 0;\n",
              "      width: 32px;\n",
              "    }\n",
              "\n",
              "    .colab-df-convert:hover {\n",
              "      background-color: #E2EBFA;\n",
              "      box-shadow: 0px 1px 2px rgba(60, 64, 67, 0.3), 0px 1px 3px 1px rgba(60, 64, 67, 0.15);\n",
              "      fill: #174EA6;\n",
              "    }\n",
              "\n",
              "    [theme=dark] .colab-df-convert {\n",
              "      background-color: #3B4455;\n",
              "      fill: #D2E3FC;\n",
              "    }\n",
              "\n",
              "    [theme=dark] .colab-df-convert:hover {\n",
              "      background-color: #434B5C;\n",
              "      box-shadow: 0px 1px 3px 1px rgba(0, 0, 0, 0.15);\n",
              "      filter: drop-shadow(0px 1px 2px rgba(0, 0, 0, 0.3));\n",
              "      fill: #FFFFFF;\n",
              "    }\n",
              "  </style>\n",
              "\n",
              "      <script>\n",
              "        const buttonEl =\n",
              "          document.querySelector('#df-7ec5db09-3433-4b54-bd6b-85b4f75db38c button.colab-df-convert');\n",
              "        buttonEl.style.display =\n",
              "          google.colab.kernel.accessAllowed ? 'block' : 'none';\n",
              "\n",
              "        async function convertToInteractive(key) {\n",
              "          const element = document.querySelector('#df-7ec5db09-3433-4b54-bd6b-85b4f75db38c');\n",
              "          const dataTable =\n",
              "            await google.colab.kernel.invokeFunction('convertToInteractive',\n",
              "                                                     [key], {});\n",
              "          if (!dataTable) return;\n",
              "\n",
              "          const docLinkHtml = 'Like what you see? Visit the ' +\n",
              "            '<a target=\"_blank\" href=https://colab.research.google.com/notebooks/data_table.ipynb>data table notebook</a>'\n",
              "            + ' to learn more about interactive tables.';\n",
              "          element.innerHTML = '';\n",
              "          dataTable['output_type'] = 'display_data';\n",
              "          await google.colab.output.renderOutput(dataTable, element);\n",
              "          const docLink = document.createElement('div');\n",
              "          docLink.innerHTML = docLinkHtml;\n",
              "          element.appendChild(docLink);\n",
              "        }\n",
              "      </script>\n",
              "    </div>\n",
              "  </div>\n",
              "  "
            ]
          },
          "metadata": {},
          "execution_count": 5
        }
      ]
    },
    {
      "cell_type": "markdown",
      "source": [
        "Порахуємо кількість чоловіків та жінок"
      ],
      "metadata": {
        "id": "zLJ6umK_qLOQ"
      }
    },
    {
      "cell_type": "code",
      "source": [
        "print(data[(data['sex'] == 'f')].sex.count())\n",
        "print(data[(data['sex'] == 'm')].sex.count())"
      ],
      "metadata": {
        "id": "Y5dWUeqo4Eq_",
        "colab": {
          "base_uri": "https://localhost:8080/"
        },
        "outputId": "64c3895b-4c67-44c6-84d9-506def5d3480"
      },
      "execution_count": null,
      "outputs": [
        {
          "output_type": "stream",
          "name": "stdout",
          "text": [
            "42\n",
            "59\n"
          ]
        }
      ]
    },
    {
      "cell_type": "code",
      "source": [
        "from sklearn.model_selection import train_test_split\n",
        "from sklearn.preprocessing import StandardScaler\n",
        "from sklearn.pipeline import Pipeline\n",
        "from sklearn.linear_model import LogisticRegression\n",
        "from sklearn import preprocessing\n",
        "from sklearn.metrics import classification_report\n",
        "from sklearn.metrics import confusion_matrix\n",
        "from sklearn.tree import DecisionTreeClassifier"
      ],
      "metadata": {
        "id": "D3u-W9u1kAWf"
      },
      "execution_count": null,
      "outputs": []
    },
    {
      "cell_type": "code",
      "source": [
        "data_y = data.pop('male')\n",
        "data_x = data.drop(['sex','Pop'], axis=1)"
      ],
      "metadata": {
        "id": "0w2sx_OhkHo_"
      },
      "execution_count": null,
      "outputs": []
    },
    {
      "cell_type": "code",
      "source": [
        "print(data_y)\n",
        "data_x"
      ],
      "metadata": {
        "colab": {
          "base_uri": "https://localhost:8080/",
          "height": 632
        },
        "id": "rOHDMZu9CR-n",
        "outputId": "a6f5554a-e62e-4201-af5b-cd0c98b666c6"
      },
      "execution_count": null,
      "outputs": [
        {
          "output_type": "stream",
          "name": "stdout",
          "text": [
            "0      1\n",
            "1      0\n",
            "2      0\n",
            "3      0\n",
            "4      0\n",
            "      ..\n",
            "96     1\n",
            "97     1\n",
            "98     0\n",
            "99     1\n",
            "100    0\n",
            "Name: male, Length: 101, dtype: int64\n"
          ]
        },
        {
          "output_type": "execute_result",
          "data": {
            "text/plain": [
              "     Unnamed: 0  case  site  age  hdlngth  skullw  totlngth  taill  footlgth  \\\n",
              "0             0     1     1  8.0     94.1    60.4      89.0   36.0      74.5   \n",
              "1             1     2     1  6.0     92.5    57.6      91.5   36.5      72.5   \n",
              "2             2     3     1  6.0     94.0    60.0      95.5   39.0      75.4   \n",
              "3             3     4     1  6.0     93.2    57.1      92.0   38.0      76.1   \n",
              "4             4     5     1  2.0     91.5    56.3      85.5   36.0      71.0   \n",
              "..          ...   ...   ...  ...      ...     ...       ...    ...       ...   \n",
              "96           99   100     7  1.0     89.5    56.0      81.5   36.5      66.0   \n",
              "97          100   101     7  1.0     88.6    54.7      82.5   39.0      64.4   \n",
              "98          101   102     7  6.0     92.4    55.0      89.0   38.0      63.5   \n",
              "99          102   103     7  4.0     91.5    55.2      82.5   36.5      62.9   \n",
              "100         103   104     7  3.0     93.6    59.9      89.0   40.0      67.6   \n",
              "\n",
              "     earconch   eye  chest  belly  \n",
              "0        54.5  15.2   28.0   36.0  \n",
              "1        51.2  16.0   28.5   33.0  \n",
              "2        51.9  15.5   30.0   34.0  \n",
              "3        52.2  15.2   28.0   34.0  \n",
              "4        53.2  15.1   28.5   33.0  \n",
              "..        ...   ...    ...    ...  \n",
              "96       46.8  14.8   23.0   27.0  \n",
              "97       48.0  14.0   25.0   33.0  \n",
              "98       45.4  13.0   25.0   30.0  \n",
              "99       45.9  15.4   25.0   29.0  \n",
              "100      46.0  14.8   28.5   33.5  \n",
              "\n",
              "[101 rows x 13 columns]"
            ],
            "text/html": [
              "\n",
              "  <div id=\"df-2835f84a-d46f-4959-a2a2-35e7ec14b7b5\">\n",
              "    <div class=\"colab-df-container\">\n",
              "      <div>\n",
              "<style scoped>\n",
              "    .dataframe tbody tr th:only-of-type {\n",
              "        vertical-align: middle;\n",
              "    }\n",
              "\n",
              "    .dataframe tbody tr th {\n",
              "        vertical-align: top;\n",
              "    }\n",
              "\n",
              "    .dataframe thead th {\n",
              "        text-align: right;\n",
              "    }\n",
              "</style>\n",
              "<table border=\"1\" class=\"dataframe\">\n",
              "  <thead>\n",
              "    <tr style=\"text-align: right;\">\n",
              "      <th></th>\n",
              "      <th>Unnamed: 0</th>\n",
              "      <th>case</th>\n",
              "      <th>site</th>\n",
              "      <th>age</th>\n",
              "      <th>hdlngth</th>\n",
              "      <th>skullw</th>\n",
              "      <th>totlngth</th>\n",
              "      <th>taill</th>\n",
              "      <th>footlgth</th>\n",
              "      <th>earconch</th>\n",
              "      <th>eye</th>\n",
              "      <th>chest</th>\n",
              "      <th>belly</th>\n",
              "    </tr>\n",
              "  </thead>\n",
              "  <tbody>\n",
              "    <tr>\n",
              "      <th>0</th>\n",
              "      <td>0</td>\n",
              "      <td>1</td>\n",
              "      <td>1</td>\n",
              "      <td>8.0</td>\n",
              "      <td>94.1</td>\n",
              "      <td>60.4</td>\n",
              "      <td>89.0</td>\n",
              "      <td>36.0</td>\n",
              "      <td>74.5</td>\n",
              "      <td>54.5</td>\n",
              "      <td>15.2</td>\n",
              "      <td>28.0</td>\n",
              "      <td>36.0</td>\n",
              "    </tr>\n",
              "    <tr>\n",
              "      <th>1</th>\n",
              "      <td>1</td>\n",
              "      <td>2</td>\n",
              "      <td>1</td>\n",
              "      <td>6.0</td>\n",
              "      <td>92.5</td>\n",
              "      <td>57.6</td>\n",
              "      <td>91.5</td>\n",
              "      <td>36.5</td>\n",
              "      <td>72.5</td>\n",
              "      <td>51.2</td>\n",
              "      <td>16.0</td>\n",
              "      <td>28.5</td>\n",
              "      <td>33.0</td>\n",
              "    </tr>\n",
              "    <tr>\n",
              "      <th>2</th>\n",
              "      <td>2</td>\n",
              "      <td>3</td>\n",
              "      <td>1</td>\n",
              "      <td>6.0</td>\n",
              "      <td>94.0</td>\n",
              "      <td>60.0</td>\n",
              "      <td>95.5</td>\n",
              "      <td>39.0</td>\n",
              "      <td>75.4</td>\n",
              "      <td>51.9</td>\n",
              "      <td>15.5</td>\n",
              "      <td>30.0</td>\n",
              "      <td>34.0</td>\n",
              "    </tr>\n",
              "    <tr>\n",
              "      <th>3</th>\n",
              "      <td>3</td>\n",
              "      <td>4</td>\n",
              "      <td>1</td>\n",
              "      <td>6.0</td>\n",
              "      <td>93.2</td>\n",
              "      <td>57.1</td>\n",
              "      <td>92.0</td>\n",
              "      <td>38.0</td>\n",
              "      <td>76.1</td>\n",
              "      <td>52.2</td>\n",
              "      <td>15.2</td>\n",
              "      <td>28.0</td>\n",
              "      <td>34.0</td>\n",
              "    </tr>\n",
              "    <tr>\n",
              "      <th>4</th>\n",
              "      <td>4</td>\n",
              "      <td>5</td>\n",
              "      <td>1</td>\n",
              "      <td>2.0</td>\n",
              "      <td>91.5</td>\n",
              "      <td>56.3</td>\n",
              "      <td>85.5</td>\n",
              "      <td>36.0</td>\n",
              "      <td>71.0</td>\n",
              "      <td>53.2</td>\n",
              "      <td>15.1</td>\n",
              "      <td>28.5</td>\n",
              "      <td>33.0</td>\n",
              "    </tr>\n",
              "    <tr>\n",
              "      <th>...</th>\n",
              "      <td>...</td>\n",
              "      <td>...</td>\n",
              "      <td>...</td>\n",
              "      <td>...</td>\n",
              "      <td>...</td>\n",
              "      <td>...</td>\n",
              "      <td>...</td>\n",
              "      <td>...</td>\n",
              "      <td>...</td>\n",
              "      <td>...</td>\n",
              "      <td>...</td>\n",
              "      <td>...</td>\n",
              "      <td>...</td>\n",
              "    </tr>\n",
              "    <tr>\n",
              "      <th>96</th>\n",
              "      <td>99</td>\n",
              "      <td>100</td>\n",
              "      <td>7</td>\n",
              "      <td>1.0</td>\n",
              "      <td>89.5</td>\n",
              "      <td>56.0</td>\n",
              "      <td>81.5</td>\n",
              "      <td>36.5</td>\n",
              "      <td>66.0</td>\n",
              "      <td>46.8</td>\n",
              "      <td>14.8</td>\n",
              "      <td>23.0</td>\n",
              "      <td>27.0</td>\n",
              "    </tr>\n",
              "    <tr>\n",
              "      <th>97</th>\n",
              "      <td>100</td>\n",
              "      <td>101</td>\n",
              "      <td>7</td>\n",
              "      <td>1.0</td>\n",
              "      <td>88.6</td>\n",
              "      <td>54.7</td>\n",
              "      <td>82.5</td>\n",
              "      <td>39.0</td>\n",
              "      <td>64.4</td>\n",
              "      <td>48.0</td>\n",
              "      <td>14.0</td>\n",
              "      <td>25.0</td>\n",
              "      <td>33.0</td>\n",
              "    </tr>\n",
              "    <tr>\n",
              "      <th>98</th>\n",
              "      <td>101</td>\n",
              "      <td>102</td>\n",
              "      <td>7</td>\n",
              "      <td>6.0</td>\n",
              "      <td>92.4</td>\n",
              "      <td>55.0</td>\n",
              "      <td>89.0</td>\n",
              "      <td>38.0</td>\n",
              "      <td>63.5</td>\n",
              "      <td>45.4</td>\n",
              "      <td>13.0</td>\n",
              "      <td>25.0</td>\n",
              "      <td>30.0</td>\n",
              "    </tr>\n",
              "    <tr>\n",
              "      <th>99</th>\n",
              "      <td>102</td>\n",
              "      <td>103</td>\n",
              "      <td>7</td>\n",
              "      <td>4.0</td>\n",
              "      <td>91.5</td>\n",
              "      <td>55.2</td>\n",
              "      <td>82.5</td>\n",
              "      <td>36.5</td>\n",
              "      <td>62.9</td>\n",
              "      <td>45.9</td>\n",
              "      <td>15.4</td>\n",
              "      <td>25.0</td>\n",
              "      <td>29.0</td>\n",
              "    </tr>\n",
              "    <tr>\n",
              "      <th>100</th>\n",
              "      <td>103</td>\n",
              "      <td>104</td>\n",
              "      <td>7</td>\n",
              "      <td>3.0</td>\n",
              "      <td>93.6</td>\n",
              "      <td>59.9</td>\n",
              "      <td>89.0</td>\n",
              "      <td>40.0</td>\n",
              "      <td>67.6</td>\n",
              "      <td>46.0</td>\n",
              "      <td>14.8</td>\n",
              "      <td>28.5</td>\n",
              "      <td>33.5</td>\n",
              "    </tr>\n",
              "  </tbody>\n",
              "</table>\n",
              "<p>101 rows × 13 columns</p>\n",
              "</div>\n",
              "      <button class=\"colab-df-convert\" onclick=\"convertToInteractive('df-2835f84a-d46f-4959-a2a2-35e7ec14b7b5')\"\n",
              "              title=\"Convert this dataframe to an interactive table.\"\n",
              "              style=\"display:none;\">\n",
              "        \n",
              "  <svg xmlns=\"http://www.w3.org/2000/svg\" height=\"24px\"viewBox=\"0 0 24 24\"\n",
              "       width=\"24px\">\n",
              "    <path d=\"M0 0h24v24H0V0z\" fill=\"none\"/>\n",
              "    <path d=\"M18.56 5.44l.94 2.06.94-2.06 2.06-.94-2.06-.94-.94-2.06-.94 2.06-2.06.94zm-11 1L8.5 8.5l.94-2.06 2.06-.94-2.06-.94L8.5 2.5l-.94 2.06-2.06.94zm10 10l.94 2.06.94-2.06 2.06-.94-2.06-.94-.94-2.06-.94 2.06-2.06.94z\"/><path d=\"M17.41 7.96l-1.37-1.37c-.4-.4-.92-.59-1.43-.59-.52 0-1.04.2-1.43.59L10.3 9.45l-7.72 7.72c-.78.78-.78 2.05 0 2.83L4 21.41c.39.39.9.59 1.41.59.51 0 1.02-.2 1.41-.59l7.78-7.78 2.81-2.81c.8-.78.8-2.07 0-2.86zM5.41 20L4 18.59l7.72-7.72 1.47 1.35L5.41 20z\"/>\n",
              "  </svg>\n",
              "      </button>\n",
              "      \n",
              "  <style>\n",
              "    .colab-df-container {\n",
              "      display:flex;\n",
              "      flex-wrap:wrap;\n",
              "      gap: 12px;\n",
              "    }\n",
              "\n",
              "    .colab-df-convert {\n",
              "      background-color: #E8F0FE;\n",
              "      border: none;\n",
              "      border-radius: 50%;\n",
              "      cursor: pointer;\n",
              "      display: none;\n",
              "      fill: #1967D2;\n",
              "      height: 32px;\n",
              "      padding: 0 0 0 0;\n",
              "      width: 32px;\n",
              "    }\n",
              "\n",
              "    .colab-df-convert:hover {\n",
              "      background-color: #E2EBFA;\n",
              "      box-shadow: 0px 1px 2px rgba(60, 64, 67, 0.3), 0px 1px 3px 1px rgba(60, 64, 67, 0.15);\n",
              "      fill: #174EA6;\n",
              "    }\n",
              "\n",
              "    [theme=dark] .colab-df-convert {\n",
              "      background-color: #3B4455;\n",
              "      fill: #D2E3FC;\n",
              "    }\n",
              "\n",
              "    [theme=dark] .colab-df-convert:hover {\n",
              "      background-color: #434B5C;\n",
              "      box-shadow: 0px 1px 3px 1px rgba(0, 0, 0, 0.15);\n",
              "      filter: drop-shadow(0px 1px 2px rgba(0, 0, 0, 0.3));\n",
              "      fill: #FFFFFF;\n",
              "    }\n",
              "  </style>\n",
              "\n",
              "      <script>\n",
              "        const buttonEl =\n",
              "          document.querySelector('#df-2835f84a-d46f-4959-a2a2-35e7ec14b7b5 button.colab-df-convert');\n",
              "        buttonEl.style.display =\n",
              "          google.colab.kernel.accessAllowed ? 'block' : 'none';\n",
              "\n",
              "        async function convertToInteractive(key) {\n",
              "          const element = document.querySelector('#df-2835f84a-d46f-4959-a2a2-35e7ec14b7b5');\n",
              "          const dataTable =\n",
              "            await google.colab.kernel.invokeFunction('convertToInteractive',\n",
              "                                                     [key], {});\n",
              "          if (!dataTable) return;\n",
              "\n",
              "          const docLinkHtml = 'Like what you see? Visit the ' +\n",
              "            '<a target=\"_blank\" href=https://colab.research.google.com/notebooks/data_table.ipynb>data table notebook</a>'\n",
              "            + ' to learn more about interactive tables.';\n",
              "          element.innerHTML = '';\n",
              "          dataTable['output_type'] = 'display_data';\n",
              "          await google.colab.output.renderOutput(dataTable, element);\n",
              "          const docLink = document.createElement('div');\n",
              "          docLink.innerHTML = docLinkHtml;\n",
              "          element.appendChild(docLink);\n",
              "        }\n",
              "      </script>\n",
              "    </div>\n",
              "  </div>\n",
              "  "
            ]
          },
          "metadata": {},
          "execution_count": 9
        }
      ]
    },
    {
      "cell_type": "markdown",
      "source": [
        "Підганяємо дані і створюємо набори тренувальних і тестових даних"
      ],
      "metadata": {
        "id": "7GXCW81yuEGo"
      }
    },
    {
      "cell_type": "code",
      "source": [
        "X_train, X_test, y_train, y_test = train_test_split(data_x, data_y, test_size=0.13, random_state=0, stratify=data_y)"
      ],
      "metadata": {
        "id": "EobGccyJkMEf"
      },
      "execution_count": null,
      "outputs": []
    },
    {
      "cell_type": "code",
      "source": [
        "sex_lr = Pipeline([('scale', StandardScaler()), ('logreg', LogisticRegression(class_weight='balanced', random_state=0))])\n",
        "sex_lr.fit(X_train, y_train)\n",
        "preds = sex_lr.predict(X_test)"
      ],
      "metadata": {
        "id": "jIuCcjGRkPOo"
      },
      "execution_count": null,
      "outputs": []
    },
    {
      "cell_type": "markdown",
      "source": [
        "![image.png](data:image/png;base64,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)"
      ],
      "metadata": {
        "id": "xnn67m9Y6snA"
      }
    },
    {
      "cell_type": "code",
      "source": [
        "mat = confusion_matrix(y_test,preds)\n",
        "sns.heatmap(mat,annot=True)"
      ],
      "metadata": {
        "id": "Zjhbb1R3E3sp",
        "outputId": "dc37ed65-d028-49f1-a928-00e1db66d9bb",
        "colab": {
          "base_uri": "https://localhost:8080/",
          "height": 286
        }
      },
      "execution_count": null,
      "outputs": [
        {
          "output_type": "execute_result",
          "data": {
            "text/plain": [
              "<matplotlib.axes._subplots.AxesSubplot at 0x7f4ec30e1710>"
            ]
          },
          "metadata": {},
          "execution_count": 12
        },
        {
          "output_type": "display_data",
          "data": {
            "text/plain": [
              "<Figure size 432x288 with 2 Axes>"
            ],
            "image/png": "[encoded data removed]"
          },
          "metadata": {
            "needs_background": "light"
          }
        }
      ]
    },
    {
      "cell_type": "code",
      "source": [
        "print(sex_lr.score(X_test,y_test))#відсоток правильно класифікованих значень\n",
        "\n",
        "from sklearn.metrics import zero_one_loss\n",
        "print(zero_one_loss(y_test, preds))# частка неправильно класифікованих об’єктів"
      ],
      "metadata": {
        "colab": {
          "base_uri": "https://localhost:8080/"
        },
        "id": "hsXuYp7t7Koq",
        "outputId": "72a4caf2-8449-4d56-e66d-4ee4566642bc"
      },
      "execution_count": null,
      "outputs": [
        {
          "output_type": "stream",
          "name": "stdout",
          "text": [
            "0.7857142857142857\n",
            "0.2142857142857143\n"
          ]
        }
      ]
    },
    {
      "cell_type": "code",
      "source": [
        "print(preds)\n",
        "print(y_test)"
      ],
      "metadata": {
        "colab": {
          "base_uri": "https://localhost:8080/"
        },
        "id": "8uZZW_uLlWKW",
        "outputId": "c39eee0f-f1a7-4285-dcea-9abe53794b7a"
      },
      "execution_count": null,
      "outputs": [
        {
          "output_type": "stream",
          "name": "stdout",
          "text": [
            "[0 1 0 1 1 0 0 0 0 1 0 0 0 1]\n",
            "4     0\n",
            "65    1\n",
            "98    0\n",
            "91    1\n",
            "64    1\n",
            "11    0\n",
            "36    0\n",
            "39    0\n",
            "69    1\n",
            "27    1\n",
            "1     0\n",
            "89    1\n",
            "48    1\n",
            "25    1\n",
            "Name: male, dtype: int64\n"
          ]
        }
      ]
    },
    {
      "cell_type": "markdown",
      "source": [
        "Scikit-learn має функцію classification_report(), яка обчислює\n",
        "влучність і повноту. На додаток до обчислення цих показників для\n",
        "мітки класу, вона також обчислює незважене середнє між класами\n",
        "і середньозважене (середнє між класами, зважене за кількістю\n",
        "об’єктів у кожному класі). Стовпець support вказує кількість\n",
        "об’єктів, які належать до кожного класу, використовуючи позначені\n",
        "дані."
      ],
      "metadata": {
        "id": "GsYXJRmu8kMx"
      }
    },
    {
      "cell_type": "code",
      "source": [
        "print(classification_report(y_test, preds))"
      ],
      "metadata": {
        "colab": {
          "base_uri": "https://localhost:8080/"
        },
        "id": "kg7nTMZ08XYY",
        "outputId": "ccf0b724-cdd0-42bd-b57a-b80e7b6636a6"
      },
      "execution_count": null,
      "outputs": [
        {
          "output_type": "stream",
          "name": "stdout",
          "text": [
            "              precision    recall  f1-score   support\n",
            "\n",
            "           0       0.67      1.00      0.80         6\n",
            "           1       1.00      0.62      0.77         8\n",
            "\n",
            "    accuracy                           0.79        14\n",
            "   macro avg       0.83      0.81      0.78        14\n",
            "weighted avg       0.86      0.79      0.78        14\n",
            "\n"
          ]
        }
      ]
    },
    {
      "cell_type": "markdown",
      "source": [
        "Існують моделі машинного навчання, що допомагають визначити, які ж ознаки є\n",
        "важливими. \n",
        "\n",
        "Дерева рішень рекурсивно розбивають дані, приймаючи рішення про\n",
        "те, які ознаки використовувати для кожного поділу. Вони використовують\n",
        "«жадібний» підхід, тобто вони щоразу шукають найбільший розкол, який можуть\n",
        "зробити; він не обов’язково є оптимальним. Можна використовувати дерево\n",
        "рішень, щоб оцінити важливість ознак, які визначають, як дерево розбиває дані\n",
        "на вузлах прийняття рішень."
      ],
      "metadata": {
        "id": "wfwIsaoc_s6Z"
      }
    },
    {
      "cell_type": "code",
      "source": [
        "pipeline = Pipeline([('scale', StandardScaler()), ('dt', \n",
        "                                                   DecisionTreeClassifier(random_state=0, class_weight='balanced'))])\n",
        "pipeline.fit(X_train, y_train)"
      ],
      "metadata": {
        "colab": {
          "base_uri": "https://localhost:8080/"
        },
        "id": "b077k45akTtW",
        "outputId": "43931a24-8596-4a4c-bb63-bf7685d17146"
      },
      "execution_count": null,
      "outputs": [
        {
          "output_type": "execute_result",
          "data": {
            "text/plain": [
              "Pipeline(steps=[('scale', StandardScaler()),\n",
              "                ('dt',\n",
              "                 DecisionTreeClassifier(class_weight='balanced',\n",
              "                                        random_state=0))])"
            ]
          },
          "metadata": {},
          "execution_count": 16
        }
      ]
    },
    {
      "cell_type": "code",
      "source": [
        "predicted = pipeline.predict(X_test)"
      ],
      "metadata": {
        "id": "-ZL9LUonkVXm"
      },
      "execution_count": null,
      "outputs": []
    },
    {
      "cell_type": "code",
      "source": [
        "print(pipeline.score(X_test, y_test))\n",
        "print(classification_report(y_test, predicted))\n"
      ],
      "metadata": {
        "id": "rieVUz40kWQW",
        "outputId": "c11f73cf-4274-4c7b-a920-151144999ee8",
        "colab": {
          "base_uri": "https://localhost:8080/"
        }
      },
      "execution_count": null,
      "outputs": [
        {
          "output_type": "stream",
          "name": "stdout",
          "text": [
            "0.5714285714285714\n",
            "              precision    recall  f1-score   support\n",
            "\n",
            "           0       0.50      0.67      0.57         6\n",
            "           1       0.67      0.50      0.57         8\n",
            "\n",
            "    accuracy                           0.57        14\n",
            "   macro avg       0.58      0.58      0.57        14\n",
            "weighted avg       0.60      0.57      0.57        14\n",
            "\n"
          ]
        }
      ]
    },
    {
      "cell_type": "markdown",
      "source": [
        "Однією з поширених стратегій вибору ознак є відкидання ознак з низькою дисперсією. Ці ознаки не надто інформативні, оскільки вони в основному мають однакове значення в усьому наборі даних. Scikit-learn має клас VarianceThreshold для здійснення вибору ознак відповідно до мінімального порога дисперсії.\n",
        "За замовчуванням він відкидає будь-які ознаки, які мають нульову дисперсію;\n",
        "однак можна задати власний поріг."
      ],
      "metadata": {
        "id": "kFPRGW2W-6XA"
      }
    },
    {
      "cell_type": "code",
      "source": [
        "from sklearn.feature_selection import VarianceThreshold\n",
        "pipeline = Pipeline([('feature_selection',VarianceThreshold()),('scale',\n",
        "StandardScaler()),('lr', LogisticRegression(class_weight='balanced',random_state=0))])\n",
        "pipeline.fit(X_train, y_train)\n",
        "pred = pipeline.predict(X_test)\n",
        "print(classification_report(y_test, pred))\n"
      ],
      "metadata": {
        "colab": {
          "base_uri": "https://localhost:8080/"
        },
        "id": "dmaoe2hk9dVo",
        "outputId": "6d62ebd2-1500-46d6-efef-61ab9142431f"
      },
      "execution_count": null,
      "outputs": [
        {
          "output_type": "stream",
          "name": "stdout",
          "text": [
            "              precision    recall  f1-score   support\n",
            "\n",
            "           0       0.67      1.00      0.80         6\n",
            "           1       1.00      0.62      0.77         8\n",
            "\n",
            "    accuracy                           0.79        14\n",
            "   macro avg       0.83      0.81      0.78        14\n",
            "weighted avg       0.86      0.79      0.78        14\n",
            "\n"
          ]
        }
      ]
    },
    {
      "cell_type": "markdown",
      "source": [
        "Для задачі класифікації також можна використовувати метод k-найближчих\n",
        "сусідів (k-NN), яка буде класифікувати спостереження відповідно до класу kнайближчих спостережень у n-вимірному просторі даних.\n",
        "Порівняємо цей результат з навчанням машини опорних векторів (SVM), яка\n",
        "проектує дані у вищий вимір, щоб знайти гіперплощину, яка розділяє класи.\n",
        "Гіперплощина є n-вимірним еквівалентом площини, так само, як площина є двовимірним еквівалентом прямої. SVM, як правило, стійкі до викидів і можуть моделювати нелінійні межі рішень; однак SVM зазвичай працює повільніше."
      ],
      "metadata": {
        "id": "FgGwCatiATgx"
      }
    },
    {
      "cell_type": "code",
      "source": [
        "from sklearn.neighbors import KNeighborsClassifier\n",
        "knn = KNeighborsClassifier(n_neighbors=5).fit(X_train, y_train)\n",
        "knn_pred = knn.predict(X_test)\n",
        "print(classification_report(y_test, knn_pred))\n"
      ],
      "metadata": {
        "colab": {
          "base_uri": "https://localhost:8080/"
        },
        "id": "PTVOCf5UAWXi",
        "outputId": "01857176-8443-4de1-f423-6c2c10ab37c7"
      },
      "execution_count": null,
      "outputs": [
        {
          "output_type": "stream",
          "name": "stdout",
          "text": [
            "              precision    recall  f1-score   support\n",
            "\n",
            "           0       0.43      0.50      0.46         6\n",
            "           1       0.57      0.50      0.53         8\n",
            "\n",
            "    accuracy                           0.50        14\n",
            "   macro avg       0.50      0.50      0.50        14\n",
            "weighted avg       0.51      0.50      0.50        14\n",
            "\n"
          ]
        }
      ]
    },
    {
      "cell_type": "code",
      "source": [
        "from sklearn.svm import SVC\n",
        "svc = SVC(gamma='auto', class_weight='balanced').fit(X_train, y_train)\n",
        "svm_pred = svc.predict(X_test)\n",
        "print(classification_report(y_test, svm_pred))"
      ],
      "metadata": {
        "colab": {
          "base_uri": "https://localhost:8080/"
        },
        "id": "eIZEmSP0BZGg",
        "outputId": "05afa13f-2b95-4739-fd03-ed3394ea27f3"
      },
      "execution_count": null,
      "outputs": [
        {
          "output_type": "stream",
          "name": "stdout",
          "text": [
            "              precision    recall  f1-score   support\n",
            "\n",
            "           0       0.00      0.00      0.00         6\n",
            "           1       0.54      0.88      0.67         8\n",
            "\n",
            "    accuracy                           0.50        14\n",
            "   macro avg       0.27      0.44      0.33        14\n",
            "weighted avg       0.31      0.50      0.38        14\n",
            "\n"
          ]
        }
      ]
    },
    {
      "cell_type": "code",
      "source": [
        "print(svm_pred)"
      ],
      "metadata": {
        "colab": {
          "base_uri": "https://localhost:8080/"
        },
        "id": "wuvpUm9dC264",
        "outputId": "f1174e1c-adea-435e-899b-fb096db6fb96"
      },
      "execution_count": null,
      "outputs": [
        {
          "output_type": "stream",
          "name": "stdout",
          "text": [
            "[1 1 1 1 1 1 1 1 1 0 1 1 1 1]\n"
          ]
        }
      ]
    }
  ]
}